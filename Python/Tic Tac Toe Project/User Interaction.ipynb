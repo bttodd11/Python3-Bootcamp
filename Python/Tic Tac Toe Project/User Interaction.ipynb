{
 "cells": [
  {
   "cell_type": "code",
   "execution_count": 1,
   "id": "9737473f",
   "metadata": {},
   "outputs": [],
   "source": [
    "gameList = [0,1,2]"
   ]
  },
  {
   "cell_type": "code",
   "execution_count": 11,
   "id": "8ec0c649",
   "metadata": {},
   "outputs": [],
   "source": [
    "def displayGame(gameList):\n",
    "    print(\"Here is the current list:\")\n",
    "    print(gameList)"
   ]
  },
  {
   "cell_type": "code",
   "execution_count": 12,
   "id": "4cf541de",
   "metadata": {},
   "outputs": [],
   "source": [
    "def positionChoice():\n",
    "    \n",
    "    choice = \"wrong\"\n",
    "    \n",
    "    while choice not in [\"0\",\"1\",\"2\"]:\n",
    "        \n",
    "        choice = input(\"Pick a position (0,1,2): \")\n",
    "        \n",
    "        if choice not in [\"0\",\"1\",\"2\"]:\n",
    "            print(\"Sorry, Invalid Choice !\")\n",
    "    \n",
    "    return int(choice)"
   ]
  },
  {
   "cell_type": "code",
   "execution_count": 13,
   "id": "b8f07db2",
   "metadata": {},
   "outputs": [
    {
     "name": "stdout",
     "output_type": "stream",
     "text": [
      "Pick a position (0,1,2): \n",
      "Sorry, Invalid Choice !\n",
      "Pick a position (0,1,2): \n",
      "Sorry, Invalid Choice !\n",
      "Pick a position (0,1,2): \n",
      "Sorry, Invalid Choice !\n",
      "Pick a position (0,1,2): 3\n",
      "Sorry, Invalid Choice !\n",
      "Pick a position (0,1,2): 2\n"
     ]
    },
    {
     "data": {
      "text/plain": [
       "2"
      ]
     },
     "execution_count": 13,
     "metadata": {},
     "output_type": "execute_result"
    }
   ],
   "source": [
    "positionChoice()"
   ]
  },
  {
   "cell_type": "code",
   "execution_count": 15,
   "id": "a37f18fe",
   "metadata": {},
   "outputs": [],
   "source": [
    "def replacementChoice(gameList, position):\n",
    "    \n",
    "    userPlacement = input(\"Type a string to place at position: \")\n",
    "    \n",
    "    gameList[position] = userPlacement\n",
    "    \n",
    "    return gameList\n",
    "    \n",
    "    "
   ]
  },
  {
   "cell_type": "code",
   "execution_count": 6,
   "id": "46949020",
   "metadata": {},
   "outputs": [
    {
     "name": "stdout",
     "output_type": "stream",
     "text": [
      "Type a string to place at position: 3\n"
     ]
    },
    {
     "data": {
      "text/plain": [
       "[0, '3', 2]"
      ]
     },
     "execution_count": 6,
     "metadata": {},
     "output_type": "execute_result"
    }
   ],
   "source": [
    "replacementChoice(gameList, 1)"
   ]
  },
  {
   "cell_type": "code",
   "execution_count": 8,
   "id": "14976ee1",
   "metadata": {},
   "outputs": [],
   "source": [
    "def gameOn():\n",
    "    \n",
    "    choice = \"wrong\"\n",
    "    \n",
    "    while choice not in [\"Yes\",\"No\"]:\n",
    "        \n",
    "        choice = input(\"Do you want to play again ?\")\n",
    "        \n",
    "        if choice.lower() not in [\"yes\", \"no\"]:\n",
    "            print(\"Sorry, Invalid Choice !\")\n",
    "            \n",
    "        if choice.lower() == \"yes\":\n",
    "            return True\n",
    "        if choice.lower() == \"no\":\n",
    "            print(\"Good game\")\n",
    "            return False\n",
    "    \n"
   ]
  },
  {
   "cell_type": "code",
   "execution_count": null,
   "id": "5dc685d9",
   "metadata": {},
   "outputs": [],
   "source": []
  },
  {
   "cell_type": "code",
   "execution_count": 9,
   "id": "ff099482",
   "metadata": {},
   "outputs": [
    {
     "name": "stdout",
     "output_type": "stream",
     "text": [
      "Do you want to play again ?NO\n",
      "Good game\n"
     ]
    },
    {
     "data": {
      "text/plain": [
       "False"
      ]
     },
     "execution_count": 9,
     "metadata": {},
     "output_type": "execute_result"
    }
   ],
   "source": [
    "gameOn()"
   ]
  },
  {
   "cell_type": "code",
   "execution_count": 16,
   "id": "fc2acd7e",
   "metadata": {},
   "outputs": [
    {
     "name": "stdout",
     "output_type": "stream",
     "text": [
      "Here is the current list:\n",
      "[0, 1, 2]\n",
      "Pick a position (0,1,2): 3\n",
      "Sorry, Invalid Choice !\n",
      "Pick a position (0,1,2): 2\n",
      "Type a string to place at position: Test\n",
      "Here is the current list:\n",
      "[0, 1, 'Test']\n",
      "Do you want to play again ?Yes\n",
      "Here is the current list:\n",
      "[0, 1, 'Test']\n",
      "Pick a position (0,1,2): 0\n",
      "Type a string to place at position: Test2\n",
      "Here is the current list:\n",
      "['Test2', 1, 'Test']\n",
      "Do you want to play again ?no\n",
      "Good game\n"
     ]
    }
   ],
   "source": [
    "game_on = True\n",
    "game_list = [0,1,2]\n",
    "\n",
    "while game_on:\n",
    "    displayGame(game_list)\n",
    "    position = positionChoice()\n",
    "    game_list = replacementChoice(game_list, position)\n",
    "    displayGame(game_list)\n",
    "    game_on = gameOn()"
   ]
  },
  {
   "cell_type": "code",
   "execution_count": null,
   "id": "d2c76259",
   "metadata": {},
   "outputs": [],
   "source": []
  }
 ],
 "metadata": {
  "kernelspec": {
   "display_name": "Python 3 (ipykernel)",
   "language": "python",
   "name": "python3"
  },
  "language_info": {
   "codemirror_mode": {
    "name": "ipython",
    "version": 3
   },
   "file_extension": ".py",
   "mimetype": "text/x-python",
   "name": "python",
   "nbconvert_exporter": "python",
   "pygments_lexer": "ipython3",
   "version": "3.11.4"
  }
 },
 "nbformat": 4,
 "nbformat_minor": 5
}
