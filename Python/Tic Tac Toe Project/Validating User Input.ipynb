{
 "cells": [
  {
   "cell_type": "code",
   "execution_count": 23,
   "id": "25b6cc92",
   "metadata": {},
   "outputs": [],
   "source": [
    "def userChoice():\n",
    "    choice = \"Wrong\"\n",
    "    accRange = range(0,10)\n",
    "    withinRange = False\n",
    "    \n",
    "        \n",
    "    while choice.isdigit() == False or withinRange == False:\n",
    "            choice = input(\"Please enter a number (0-10): \")\n",
    "            \n",
    "            \n",
    "            if choice.isdigit() == False:\n",
    "                print(\"Sorry that is not a digit\")\n",
    "            \n",
    "            if choice.isdigit():\n",
    "                if int(choice) not in accRange:\n",
    "                    print(\"This is not between 1-10\")\n",
    "                    pass\n",
    "                else:\n",
    "                    withinRange = True\n",
    "            \n",
    "    return int(choice)\n",
    "    "
   ]
  },
  {
   "cell_type": "code",
   "execution_count": 24,
   "id": "587e6803",
   "metadata": {},
   "outputs": [
    {
     "name": "stdout",
     "output_type": "stream",
     "text": [
      "Please enter a number (0-10): t\n",
      "Sorry that is not a digit\n",
      "Please enter a number (0-10): t\n",
      "Sorry that is not a digit\n",
      "Please enter a number (0-10): 23\n",
      "This is not between 1-10\n",
      "Please enter a number (0-10): 3\n"
     ]
    },
    {
     "data": {
      "text/plain": [
       "3"
      ]
     },
     "execution_count": 24,
     "metadata": {},
     "output_type": "execute_result"
    }
   ],
   "source": [
    "userChoice()"
   ]
  },
  {
   "cell_type": "code",
   "execution_count": 17,
   "id": "da887f3d",
   "metadata": {},
   "outputs": [],
   "source": [
    "accValues = [0,1,2]"
   ]
  },
  {
   "cell_type": "code",
   "execution_count": 18,
   "id": "def0946c",
   "metadata": {},
   "outputs": [],
   "source": [
    "result = \"Wrong Value\""
   ]
  },
  {
   "cell_type": "code",
   "execution_count": 19,
   "id": "3e11a5a8",
   "metadata": {},
   "outputs": [
    {
     "data": {
      "text/plain": [
       "False"
      ]
     },
     "execution_count": 19,
     "metadata": {},
     "output_type": "execute_result"
    }
   ],
   "source": [
    "result in accValues"
   ]
  },
  {
   "cell_type": "code",
   "execution_count": 20,
   "id": "4e8bf3bb",
   "metadata": {},
   "outputs": [
    {
     "data": {
      "text/plain": [
       "True"
      ]
     },
     "execution_count": 20,
     "metadata": {},
     "output_type": "execute_result"
    }
   ],
   "source": [
    "result not in accValues"
   ]
  },
  {
   "cell_type": "markdown",
   "id": "b7137e0b",
   "metadata": {},
   "source": []
  },
  {
   "cell_type": "code",
   "execution_count": null,
   "id": "55c7a555",
   "metadata": {},
   "outputs": [],
   "source": []
  }
 ],
 "metadata": {
  "kernelspec": {
   "display_name": "Python 3 (ipykernel)",
   "language": "python",
   "name": "python3"
  },
  "language_info": {
   "codemirror_mode": {
    "name": "ipython",
    "version": 3
   },
   "file_extension": ".py",
   "mimetype": "text/x-python",
   "name": "python",
   "nbconvert_exporter": "python",
   "pygments_lexer": "ipython3",
   "version": "3.11.4"
  }
 },
 "nbformat": 4,
 "nbformat_minor": 5
}
