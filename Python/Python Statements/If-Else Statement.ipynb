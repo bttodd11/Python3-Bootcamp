{
 "cells": [
  {
   "cell_type": "code",
   "execution_count": 7,
   "id": "2ee94f35",
   "metadata": {},
   "outputs": [
    {
     "name": "stdout",
     "output_type": "stream",
     "text": [
      "Not true\n"
     ]
    }
   ],
   "source": [
    "hungry = False\n",
    "\n",
    "if hungry:\n",
    "    print(\"Its true\")\n",
    "    \n",
    "else: \n",
    "    print(\"Not true\")"
   ]
  },
  {
   "cell_type": "code",
   "execution_count": 10,
   "id": "9c785fb5",
   "metadata": {},
   "outputs": [
    {
     "name": "stdout",
     "output_type": "stream",
     "text": [
      "Stores are cool\n"
     ]
    }
   ],
   "source": [
    "location = \"Store\"\n",
    "\n",
    "if(location == \"Auto Shop\"):\n",
    "    print(\"Car are cool\")\n",
    "elif (location == 'Bank'):\n",
    "    print(\"Money is cool\")\n",
    "elif(location == 'Store'):\n",
    "    print(\"Stores are cool\")\n",
    "else: print(\"I do not know much\")"
   ]
  },
  {
   "cell_type": "code",
   "execution_count": 12,
   "id": "3a62c3b5",
   "metadata": {},
   "outputs": [
    {
     "name": "stdout",
     "output_type": "stream",
     "text": [
      "What is your name ?\n"
     ]
    }
   ],
   "source": [
    "name = 'Sammfy'\n",
    "\n",
    "if name == \"Sammy\":\n",
    "    print(\"Hi Sammy\")\n",
    "else: print(\"What is your name ?\")"
   ]
  },
  {
   "cell_type": "code",
   "execution_count": null,
   "id": "ac5f94f4",
   "metadata": {},
   "outputs": [],
   "source": []
  }
 ],
 "metadata": {
  "kernelspec": {
   "display_name": "Python 3 (ipykernel)",
   "language": "python",
   "name": "python3"
  },
  "language_info": {
   "codemirror_mode": {
    "name": "ipython",
    "version": 3
   },
   "file_extension": ".py",
   "mimetype": "text/x-python",
   "name": "python",
   "nbconvert_exporter": "python",
   "pygments_lexer": "ipython3",
   "version": "3.11.4"
  }
 },
 "nbformat": 4,
 "nbformat_minor": 5
}
