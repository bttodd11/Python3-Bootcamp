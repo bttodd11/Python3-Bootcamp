{
 "cells": [
  {
   "cell_type": "code",
   "execution_count": 1,
   "id": "e5fb35b7",
   "metadata": {},
   "outputs": [],
   "source": [
    "mylist = [1,2,3]"
   ]
  },
  {
   "cell_type": "code",
   "execution_count": 6,
   "id": "5b046910",
   "metadata": {},
   "outputs": [
    {
     "name": "stdout",
     "output_type": "stream",
     "text": [
      "0\n",
      "2\n",
      "4\n",
      "6\n",
      "8\n",
      "10\n"
     ]
    }
   ],
   "source": [
    "#Range Function\n",
    "for num in range(0,11,2):\n",
    "    print(num)"
   ]
  },
  {
   "cell_type": "code",
   "execution_count": 7,
   "id": "ac99fcaa",
   "metadata": {},
   "outputs": [
    {
     "data": {
      "text/plain": [
       "[0, 5, 10, 15, 20, 25]"
      ]
     },
     "execution_count": 7,
     "metadata": {},
     "output_type": "execute_result"
    }
   ],
   "source": [
    "list(range(0,29,5))"
   ]
  },
  {
   "cell_type": "code",
   "execution_count": 16,
   "id": "4787d33e",
   "metadata": {},
   "outputs": [
    {
     "name": "stdout",
     "output_type": "stream",
     "text": [
      "(0, 'a')\n",
      "(1, 'b')\n",
      "(2, 'c')\n",
      "(3, 'd')\n",
      "(4, 'e')\n"
     ]
    }
   ],
   "source": [
    "#Enumerate Function\n",
    "indexCount = 0\n",
    "word = \"abcde\"\n",
    "for letter in enumerate(word):\n",
    "    print(letter)\n"
   ]
  },
  {
   "cell_type": "code",
   "execution_count": 18,
   "id": "f179c0fb",
   "metadata": {},
   "outputs": [
    {
     "name": "stdout",
     "output_type": "stream",
     "text": [
      "(1, 'a')\n",
      "(2, 'b')\n",
      "(3, 'c')\n"
     ]
    }
   ],
   "source": [
    "#Zip Function\n",
    "myList1 = [1,2,3,4,5]\n",
    "myList2 = ['a','b','c']\n",
    "\n",
    "for item in zip(myList1, myList2):\n",
    "    print(item)"
   ]
  },
  {
   "cell_type": "code",
   "execution_count": 19,
   "id": "6a0c2aa2",
   "metadata": {},
   "outputs": [
    {
     "data": {
      "text/plain": [
       "[(1, 'a'), (2, 'b'), (3, 'c')]"
      ]
     },
     "execution_count": 19,
     "metadata": {},
     "output_type": "execute_result"
    }
   ],
   "source": [
    "list(zip(myList1, myList2))"
   ]
  },
  {
   "cell_type": "code",
   "execution_count": 20,
   "id": "d535a707",
   "metadata": {},
   "outputs": [
    {
     "data": {
      "text/plain": [
       "False"
      ]
     },
     "execution_count": 20,
     "metadata": {},
     "output_type": "execute_result"
    }
   ],
   "source": [
    "# 'in' function can check to see if a value is in a list or dictionary\n",
    "'x' in myList1"
   ]
  },
  {
   "cell_type": "code",
   "execution_count": 21,
   "id": "3c89d00e",
   "metadata": {},
   "outputs": [
    {
     "data": {
      "text/plain": [
       "True"
      ]
     },
     "execution_count": 21,
     "metadata": {},
     "output_type": "execute_result"
    }
   ],
   "source": [
    "1 in myList1"
   ]
  },
  {
   "cell_type": "code",
   "execution_count": 22,
   "id": "f9b04bdc",
   "metadata": {},
   "outputs": [],
   "source": [
    "# Use this to shuffle your list\n",
    "from random import shuffle"
   ]
  },
  {
   "cell_type": "code",
   "execution_count": 23,
   "id": "b2bafa9b",
   "metadata": {},
   "outputs": [],
   "source": [
    "mylist = [1,2,3,4,5,6]\n",
    "shuffle(mylist)"
   ]
  },
  {
   "cell_type": "code",
   "execution_count": 24,
   "id": "31d08d3a",
   "metadata": {},
   "outputs": [
    {
     "data": {
      "text/plain": [
       "[6, 4, 1, 5, 3, 2]"
      ]
     },
     "execution_count": 24,
     "metadata": {},
     "output_type": "execute_result"
    }
   ],
   "source": [
    "mylist"
   ]
  },
  {
   "cell_type": "code",
   "execution_count": 28,
   "id": "f1bf92b0",
   "metadata": {},
   "outputs": [
    {
     "data": {
      "text/plain": [
       "44"
      ]
     },
     "execution_count": 28,
     "metadata": {},
     "output_type": "execute_result"
    }
   ],
   "source": [
    "# Randint will pick a random number between the two values\n",
    "from random import randint\n",
    "\n",
    "randint(0,199)"
   ]
  },
  {
   "cell_type": "code",
   "execution_count": 33,
   "id": "cf38e338",
   "metadata": {},
   "outputs": [
    {
     "name": "stdout",
     "output_type": "stream",
     "text": [
      "Enter a number: 8\n"
     ]
    }
   ],
   "source": [
    "result = input('Enter a number: ')"
   ]
  },
  {
   "cell_type": "code",
   "execution_count": 37,
   "id": "cc2d7ec0",
   "metadata": {},
   "outputs": [
    {
     "data": {
      "text/plain": [
       "8"
      ]
     },
     "execution_count": 37,
     "metadata": {},
     "output_type": "execute_result"
    }
   ],
   "source": [
    "# int(value) is used to cast a data type\n",
    "int(result)"
   ]
  },
  {
   "cell_type": "code",
   "execution_count": 46,
   "id": "d818f8f7",
   "metadata": {},
   "outputs": [],
   "source": [
    "myString = \"Hello3333333333\""
   ]
  },
  {
   "cell_type": "code",
   "execution_count": 53,
   "id": "dee6abf4",
   "metadata": {},
   "outputs": [],
   "source": [
    "myList = [num *2 for num in range(0,10,1)]\n",
    "\n",
    "# letter for letter in myString:"
   ]
  },
  {
   "cell_type": "code",
   "execution_count": 54,
   "id": "dfb55523",
   "metadata": {},
   "outputs": [
    {
     "data": {
      "text/plain": [
       "[0, 2, 4, 6, 8, 10, 12, 14, 16, 18]"
      ]
     },
     "execution_count": 54,
     "metadata": {},
     "output_type": "execute_result"
    }
   ],
   "source": [
    "myList"
   ]
  },
  {
   "cell_type": "code",
   "execution_count": 55,
   "id": "42957ede",
   "metadata": {},
   "outputs": [],
   "source": [
    "myList2 = [x for x in range(0,20) if x%2 == 0]"
   ]
  },
  {
   "cell_type": "code",
   "execution_count": 56,
   "id": "1a181f2f",
   "metadata": {},
   "outputs": [
    {
     "data": {
      "text/plain": [
       "[0, 2, 4, 6, 8, 10, 12, 14, 16, 18]"
      ]
     },
     "execution_count": 56,
     "metadata": {},
     "output_type": "execute_result"
    }
   ],
   "source": [
    "myList2"
   ]
  },
  {
   "cell_type": "code",
   "execution_count": 57,
   "id": "d35e613a",
   "metadata": {},
   "outputs": [
    {
     "name": "stdout",
     "output_type": "stream",
     "text": [
      "[12, 16, 20, 24, 32, 40, 30, 40, 50]\n"
     ]
    }
   ],
   "source": [
    "myList3 = []\n",
    "\n",
    "for x in [2,4,5]:\n",
    "    for y in [3,4,5]:\n",
    "        myList3.append(x * y * 2)\n",
    "        \n",
    "print(myList3)"
   ]
  },
  {
   "cell_type": "code",
   "execution_count": null,
   "id": "d6cf63fe",
   "metadata": {},
   "outputs": [],
   "source": []
  }
 ],
 "metadata": {
  "kernelspec": {
   "display_name": "Python 3 (ipykernel)",
   "language": "python",
   "name": "python3"
  },
  "language_info": {
   "codemirror_mode": {
    "name": "ipython",
    "version": 3
   },
   "file_extension": ".py",
   "mimetype": "text/x-python",
   "name": "python",
   "nbconvert_exporter": "python",
   "pygments_lexer": "ipython3",
   "version": "3.11.4"
  }
 },
 "nbformat": 4,
 "nbformat_minor": 5
}
