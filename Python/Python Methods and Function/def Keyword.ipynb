{
 "cells": [
  {
   "cell_type": "code",
   "execution_count": 1,
   "id": "48acc117",
   "metadata": {},
   "outputs": [],
   "source": [
    "# def is needed to create a function\n",
    "#def name_of_function():"
   ]
  },
  {
   "cell_type": "code",
   "execution_count": 7,
   "id": "479b66cb",
   "metadata": {},
   "outputs": [],
   "source": [
    "name = \"Brian\"\n",
    "\n",
    "def name_of_function(name):\n",
    "    print(\"Hello \" + name)"
   ]
  },
  {
   "cell_type": "code",
   "execution_count": 8,
   "id": "dcf9e29d",
   "metadata": {},
   "outputs": [
    {
     "name": "stdout",
     "output_type": "stream",
     "text": [
      "Hello Brian\n"
     ]
    }
   ],
   "source": [
    "name_of_function(name)"
   ]
  },
  {
   "cell_type": "code",
   "execution_count": 12,
   "id": "d75615ac",
   "metadata": {},
   "outputs": [],
   "source": [
    "def say_hello(name):\n",
    "    print(f'Hello {name}')"
   ]
  },
  {
   "cell_type": "code",
   "execution_count": 13,
   "id": "42a09f73",
   "metadata": {},
   "outputs": [
    {
     "name": "stdout",
     "output_type": "stream",
     "text": [
      "Hello Brian\n"
     ]
    }
   ],
   "source": [
    "say_hello(\"Brian\")"
   ]
  },
  {
   "cell_type": "code",
   "execution_count": 1,
   "id": "c1e627d2",
   "metadata": {},
   "outputs": [
    {
     "data": {
      "text/plain": [
       "1"
      ]
     },
     "execution_count": 1,
     "metadata": {},
     "output_type": "execute_result"
    }
   ],
   "source": [
    "3 % 2"
   ]
  },
  {
   "cell_type": "code",
   "execution_count": 2,
   "id": "cbf277a1",
   "metadata": {},
   "outputs": [
    {
     "data": {
      "text/plain": [
       "True"
      ]
     },
     "execution_count": 2,
     "metadata": {},
     "output_type": "execute_result"
    }
   ],
   "source": [
    "20 % 2 == 0"
   ]
  },
  {
   "cell_type": "code",
   "execution_count": 3,
   "id": "68e0d315",
   "metadata": {},
   "outputs": [],
   "source": [
    "def even_check(num):\n",
    "    result = num % 2 == 0\n",
    "    return result"
   ]
  },
  {
   "cell_type": "code",
   "execution_count": 4,
   "id": "5e3e0062",
   "metadata": {},
   "outputs": [
    {
     "data": {
      "text/plain": [
       "True"
      ]
     },
     "execution_count": 4,
     "metadata": {},
     "output_type": "execute_result"
    }
   ],
   "source": [
    "even_check(20)"
   ]
  },
  {
   "cell_type": "code",
   "execution_count": 5,
   "id": "66acadb1",
   "metadata": {},
   "outputs": [
    {
     "data": {
      "text/plain": [
       "False"
      ]
     },
     "execution_count": 5,
     "metadata": {},
     "output_type": "execute_result"
    }
   ],
   "source": [
    "even_check(19)"
   ]
  },
  {
   "cell_type": "code",
   "execution_count": 32,
   "id": "f76a221c",
   "metadata": {},
   "outputs": [],
   "source": [
    "#Return true if any number is even inside of a list\n",
    "\n",
    "def even_list_check(numList):\n",
    "    returnedList = []\n",
    "    \n",
    "    for num in numList:\n",
    "        if(num % 2 == 0):\n",
    "            returnedList.append(num)\n",
    "        else :\n",
    "             pass\n",
    "    return returnedList\n"
   ]
  },
  {
   "cell_type": "code",
   "execution_count": 33,
   "id": "79cde388",
   "metadata": {},
   "outputs": [],
   "source": [
    "newList = even_list_check([3,3,4,5,2,4,5,242,35234,523])"
   ]
  },
  {
   "cell_type": "code",
   "execution_count": 34,
   "id": "b9a350e0",
   "metadata": {},
   "outputs": [
    {
     "data": {
      "text/plain": [
       "[4, 2, 4, 242, 35234]"
      ]
     },
     "execution_count": 34,
     "metadata": {},
     "output_type": "execute_result"
    }
   ],
   "source": [
    "newList"
   ]
  },
  {
   "cell_type": "code",
   "execution_count": null,
   "id": "ecf2ab5f",
   "metadata": {},
   "outputs": [],
   "source": []
  }
 ],
 "metadata": {
  "kernelspec": {
   "display_name": "Python 3 (ipykernel)",
   "language": "python",
   "name": "python3"
  },
  "language_info": {
   "codemirror_mode": {
    "name": "ipython",
    "version": 3
   },
   "file_extension": ".py",
   "mimetype": "text/x-python",
   "name": "python",
   "nbconvert_exporter": "python",
   "pygments_lexer": "ipython3",
   "version": "3.11.4"
  }
 },
 "nbformat": 4,
 "nbformat_minor": 5
}
