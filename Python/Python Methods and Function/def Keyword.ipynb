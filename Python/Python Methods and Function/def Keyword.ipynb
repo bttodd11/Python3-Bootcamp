{
 "cells": [
  {
   "cell_type": "code",
   "execution_count": 1,
   "id": "48acc117",
   "metadata": {},
   "outputs": [],
   "source": [
    "# def is needed to create a function\n",
    "#def name_of_function():"
   ]
  },
  {
   "cell_type": "code",
   "execution_count": 7,
   "id": "479b66cb",
   "metadata": {},
   "outputs": [],
   "source": [
    "name = \"Brian\"\n",
    "\n",
    "def name_of_function(name):\n",
    "    print(\"Hello \" + name)"
   ]
  },
  {
   "cell_type": "code",
   "execution_count": 8,
   "id": "dcf9e29d",
   "metadata": {},
   "outputs": [
    {
     "name": "stdout",
     "output_type": "stream",
     "text": [
      "Hello Brian\n"
     ]
    }
   ],
   "source": [
    "name_of_function(name)"
   ]
  },
  {
   "cell_type": "code",
   "execution_count": 12,
   "id": "d75615ac",
   "metadata": {},
   "outputs": [],
   "source": [
    "def say_hello(name):\n",
    "    print(f'Hello {name}')"
   ]
  },
  {
   "cell_type": "code",
   "execution_count": 13,
   "id": "42a09f73",
   "metadata": {},
   "outputs": [
    {
     "name": "stdout",
     "output_type": "stream",
     "text": [
      "Hello Brian\n"
     ]
    }
   ],
   "source": [
    "say_hello(\"Brian\")"
   ]
  },
  {
   "cell_type": "code",
   "execution_count": null,
   "id": "c1e627d2",
   "metadata": {},
   "outputs": [],
   "source": []
  }
 ],
 "metadata": {
  "kernelspec": {
   "display_name": "Python 3 (ipykernel)",
   "language": "python",
   "name": "python3"
  },
  "language_info": {
   "codemirror_mode": {
    "name": "ipython",
    "version": 3
   },
   "file_extension": ".py",
   "mimetype": "text/x-python",
   "name": "python",
   "nbconvert_exporter": "python",
   "pygments_lexer": "ipython3",
   "version": "3.11.4"
  }
 },
 "nbformat": 4,
 "nbformat_minor": 5
}
