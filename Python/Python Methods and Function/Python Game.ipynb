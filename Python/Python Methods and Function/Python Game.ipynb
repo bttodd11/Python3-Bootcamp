{
 "cells": [
  {
   "cell_type": "code",
   "execution_count": 20,
   "id": "fbea41e2",
   "metadata": {},
   "outputs": [],
   "source": [
    "eList = [1,2,3,4,5,6,7]"
   ]
  },
  {
   "cell_type": "code",
   "execution_count": 21,
   "id": "dd69aae0",
   "metadata": {},
   "outputs": [],
   "source": [
    "from random import shuffle"
   ]
  },
  {
   "cell_type": "code",
   "execution_count": 22,
   "id": "cd878a00",
   "metadata": {},
   "outputs": [],
   "source": [
    "result = shuffle(eList)"
   ]
  },
  {
   "cell_type": "code",
   "execution_count": 28,
   "id": "b0027c5c",
   "metadata": {},
   "outputs": [],
   "source": [
    "def shuffleList(myList):\n",
    "    shuffle(myList)\n",
    "    return myList"
   ]
  },
  {
   "cell_type": "code",
   "execution_count": 31,
   "id": "b06bf005",
   "metadata": {},
   "outputs": [],
   "source": [
    "result = shuffleList(eList)"
   ]
  },
  {
   "cell_type": "code",
   "execution_count": 32,
   "id": "415fbdfa",
   "metadata": {},
   "outputs": [
    {
     "data": {
      "text/plain": [
       "[1, 5, 6, 7, 3, 2, 4]"
      ]
     },
     "execution_count": 32,
     "metadata": {},
     "output_type": "execute_result"
    }
   ],
   "source": [
    "result"
   ]
  },
  {
   "cell_type": "code",
   "execution_count": 33,
   "id": "15949ec9",
   "metadata": {},
   "outputs": [],
   "source": [
    "mylist = [' ', '0', ' ']"
   ]
  },
  {
   "cell_type": "code",
   "execution_count": 37,
   "id": "ac098d43",
   "metadata": {},
   "outputs": [
    {
     "data": {
      "text/plain": [
       "[' ', ' ', '0']"
      ]
     },
     "execution_count": 37,
     "metadata": {},
     "output_type": "execute_result"
    }
   ],
   "source": [
    "shuffleList(mylist)"
   ]
  },
  {
   "cell_type": "code",
   "execution_count": 42,
   "id": "863b414e",
   "metadata": {},
   "outputs": [],
   "source": [
    "def playerGuess():\n",
    "    guess = ''\n",
    "    picks = ['0','1','2']\n",
    "    \n",
    "    while guess not in picks:\n",
    "        guess = input(\"Pick a number 0 , 1 or 2 \")\n",
    "        \n",
    "    return int(guess)"
   ]
  },
  {
   "cell_type": "code",
   "execution_count": 44,
   "id": "531c6176",
   "metadata": {},
   "outputs": [
    {
     "name": "stdout",
     "output_type": "stream",
     "text": [
      "Pick a number 0 , 1 or 2 2\n"
     ]
    },
    {
     "data": {
      "text/plain": [
       "2"
      ]
     },
     "execution_count": 44,
     "metadata": {},
     "output_type": "execute_result"
    }
   ],
   "source": [
    "playerGuess()"
   ]
  },
  {
   "cell_type": "code",
   "execution_count": 55,
   "id": "273373fc",
   "metadata": {},
   "outputs": [],
   "source": [
    "def checkGuess(myList, checkGuess):\n",
    "    if myList[checkGuess] == \"0\":\n",
    "        print(\"Correct\")\n",
    "    else: \n",
    "        print(\"Wrong Guess\")\n",
    "        print(myList)\n",
    "    "
   ]
  },
  {
   "cell_type": "code",
   "execution_count": 68,
   "id": "cb30f5d8",
   "metadata": {},
   "outputs": [
    {
     "name": "stdout",
     "output_type": "stream",
     "text": [
      "Pick a number 0 , 1 or 2 0\n",
      "Correct\n"
     ]
    }
   ],
   "source": [
    "myList = [\" \", \"0\", \"\"]\n",
    "shuffleListed = shuffleList(myList)\n",
    "guess = playerGuess()\n",
    "checkGuess(shuffleListed, guess)"
   ]
  },
  {
   "cell_type": "code",
   "execution_count": null,
   "id": "3609b540",
   "metadata": {},
   "outputs": [],
   "source": []
  }
 ],
 "metadata": {
  "kernelspec": {
   "display_name": "Python 3 (ipykernel)",
   "language": "python",
   "name": "python3"
  },
  "language_info": {
   "codemirror_mode": {
    "name": "ipython",
    "version": 3
   },
   "file_extension": ".py",
   "mimetype": "text/x-python",
   "name": "python",
   "nbconvert_exporter": "python",
   "pygments_lexer": "ipython3",
   "version": "3.11.4"
  }
 },
 "nbformat": 4,
 "nbformat_minor": 5
}
