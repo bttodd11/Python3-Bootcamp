{
 "cells": [
  {
   "cell_type": "code",
   "execution_count": 20,
   "id": "8fd3c4c4",
   "metadata": {},
   "outputs": [],
   "source": [
    "eList = [1,2,3,4,5,6,7]"
   ]
  },
  {
   "cell_type": "code",
   "execution_count": 21,
   "id": "263df396",
   "metadata": {},
   "outputs": [],
   "source": [
    "from random import shuffle"
   ]
  },
  {
   "cell_type": "code",
   "execution_count": 22,
   "id": "3165fd74",
   "metadata": {},
   "outputs": [],
   "source": [
    "result = shuffle(eList)"
   ]
  },
  {
   "cell_type": "code",
   "execution_count": 27,
   "id": "c76bbe0f",
   "metadata": {},
   "outputs": [],
   "source": [
    "def shuffleList(myList):\n",
    "    shuffle(myList)\n",
    "    return myList"
   ]
  },
  {
   "cell_type": "raw",
   "id": "66c7d5f4",
   "metadata": {},
   "source": []
  }
 ],
 "metadata": {
  "kernelspec": {
   "display_name": "Python 3 (ipykernel)",
   "language": "python",
   "name": "python3"
  },
  "language_info": {
   "codemirror_mode": {
    "name": "ipython",
    "version": 3
   },
   "file_extension": ".py",
   "mimetype": "text/x-python",
   "name": "python",
   "nbconvert_exporter": "python",
   "pygments_lexer": "ipython3",
   "version": "3.11.4"
  }
 },
 "nbformat": 4,
 "nbformat_minor": 5
}
