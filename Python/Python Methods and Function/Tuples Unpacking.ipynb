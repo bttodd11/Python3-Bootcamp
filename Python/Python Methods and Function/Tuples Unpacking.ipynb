{
 "cells": [
  {
   "cell_type": "code",
   "execution_count": 28,
   "id": "35e2eb98",
   "metadata": {},
   "outputs": [],
   "source": [
    "stock_prices = [('Appl',200),('GOOG',900),('MSFT',800)]"
   ]
  },
  {
   "cell_type": "code",
   "execution_count": 29,
   "id": "6a27ef88",
   "metadata": {},
   "outputs": [
    {
     "name": "stdout",
     "output_type": "stream",
     "text": [
      "('Appl', 200)\n",
      "('GOOG', 900)\n",
      "('MSFT', 800)\n"
     ]
    }
   ],
   "source": [
    "for item in stock_prices:\n",
    "    print(item)"
   ]
  },
  {
   "cell_type": "code",
   "execution_count": 31,
   "id": "42c56def",
   "metadata": {},
   "outputs": [
    {
     "name": "stdout",
     "output_type": "stream",
     "text": [
      "Appl 200\n",
      "GOOG 900\n",
      "MSFT 800\n"
     ]
    }
   ],
   "source": [
    "for ticker,price in stock_prices:\n",
    "    print(ticker, price)"
   ]
  },
  {
   "cell_type": "code",
   "execution_count": 36,
   "id": "19f56ddd",
   "metadata": {},
   "outputs": [],
   "source": [
    "work_hours = [('Abby', 199), ('Billy', 3399), (\"Cas\", 800)]"
   ]
  },
  {
   "cell_type": "code",
   "execution_count": 37,
   "id": "1af8c26c",
   "metadata": {},
   "outputs": [],
   "source": [
    "def employeeCheck(workHours):\n",
    "    \n",
    "    currentMax = 0\n",
    "    employeeName = \"\"\n",
    "    \n",
    "    for employee, hours in work_hours:\n",
    "        if(hours > currentMax):\n",
    "            currentMax = hours\n",
    "            employeeName = employee\n",
    "        else: \n",
    "            pass\n",
    "    \n",
    "    \n",
    "    \n",
    "    return(employeeName, currentMax)"
   ]
  },
  {
   "cell_type": "code",
   "execution_count": 38,
   "id": "cfe66d74",
   "metadata": {},
   "outputs": [
    {
     "data": {
      "text/plain": [
       "('Billy', 3399)"
      ]
     },
     "execution_count": 38,
     "metadata": {},
     "output_type": "execute_result"
    }
   ],
   "source": [
    "employeeCheck(work_hours)"
   ]
  },
  {
   "cell_type": "code",
   "execution_count": 39,
   "id": "c252a4c8",
   "metadata": {},
   "outputs": [],
   "source": [
    "name, hours = employeeCheck(work_hours)"
   ]
  },
  {
   "cell_type": "code",
   "execution_count": 40,
   "id": "2ae63d59",
   "metadata": {},
   "outputs": [
    {
     "data": {
      "text/plain": [
       "'Billy'"
      ]
     },
     "execution_count": 40,
     "metadata": {},
     "output_type": "execute_result"
    }
   ],
   "source": [
    "name"
   ]
  },
  {
   "cell_type": "code",
   "execution_count": 41,
   "id": "9d827cf2",
   "metadata": {},
   "outputs": [
    {
     "data": {
      "text/plain": [
       "3399"
      ]
     },
     "execution_count": 41,
     "metadata": {},
     "output_type": "execute_result"
    }
   ],
   "source": [
    "hours"
   ]
  },
  {
   "cell_type": "code",
   "execution_count": null,
   "id": "a2bed921",
   "metadata": {},
   "outputs": [],
   "source": [
    " "
   ]
  }
 ],
 "metadata": {
  "kernelspec": {
   "display_name": "Python 3 (ipykernel)",
   "language": "python",
   "name": "python3"
  },
  "language_info": {
   "codemirror_mode": {
    "name": "ipython",
    "version": 3
   },
   "file_extension": ".py",
   "mimetype": "text/x-python",
   "name": "python",
   "nbconvert_exporter": "python",
   "pygments_lexer": "ipython3",
   "version": "3.11.4"
  }
 },
 "nbformat": 4,
 "nbformat_minor": 5
}
