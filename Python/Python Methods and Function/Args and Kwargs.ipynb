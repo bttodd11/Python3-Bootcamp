{
 "cells": [
  {
   "cell_type": "code",
   "execution_count": 1,
   "id": "c821d863",
   "metadata": {},
   "outputs": [],
   "source": [
    "def myfunc(a,b):\n",
    "    #Returns 5% of the sum of a and b\n",
    "    return sum((a,b)) * 0.05"
   ]
  },
  {
   "cell_type": "code",
   "execution_count": 2,
   "id": "6e328135",
   "metadata": {},
   "outputs": [
    {
     "data": {
      "text/plain": [
       "5.0"
      ]
     },
     "execution_count": 2,
     "metadata": {},
     "output_type": "execute_result"
    }
   ],
   "source": [
    "myfunc(40,60)"
   ]
  },
  {
   "cell_type": "code",
   "execution_count": 8,
   "id": "b7df91a4",
   "metadata": {},
   "outputs": [],
   "source": [
    " # Args can be any var you want it just needs\n",
    " # to have a star in front\n",
    "def myfunc(*args):\n",
    "        return sum(args) * 0.05"
   ]
  },
  {
   "cell_type": "code",
   "execution_count": 9,
   "id": "d2bb547b",
   "metadata": {},
   "outputs": [
    {
     "data": {
      "text/plain": [
       "238.15"
      ]
     },
     "execution_count": 9,
     "metadata": {},
     "output_type": "execute_result"
    }
   ],
   "source": [
    "myfunc(50,3,2,1,34,5,21,34,4534,43,33,3)"
   ]
  },
  {
   "cell_type": "code",
   "execution_count": 13,
   "id": "9f54eb91",
   "metadata": {},
   "outputs": [],
   "source": [
    "# Two ** mean that is has to be a dictionary\n",
    "def myfunc(**kwargs):\n",
    "    if \"fruit\" in kwargs:\n",
    "        print(\"My fruit of choice is {}\".format(kwargs['fruit']))\n",
    "    else:\n",
    "        print(\"I did not find my fruit here\")"
   ]
  },
  {
   "cell_type": "code",
   "execution_count": 14,
   "id": "bd9f2ab9",
   "metadata": {},
   "outputs": [
    {
     "name": "stdout",
     "output_type": "stream",
     "text": [
      "My fruit of choice is apple\n"
     ]
    }
   ],
   "source": [
    "myfunc(fruit=\"apple\", car=\"volvo\")"
   ]
  },
  {
   "cell_type": "code",
   "execution_count": 17,
   "id": "43e0394d",
   "metadata": {},
   "outputs": [],
   "source": [
    "def myfunc(*args, **kwargs):\n",
    "    print('I would like {} {}'.format(args[2], kwargs['food']))"
   ]
  },
  {
   "cell_type": "code",
   "execution_count": 18,
   "id": "311855d1",
   "metadata": {},
   "outputs": [
    {
     "name": "stdout",
     "output_type": "stream",
     "text": [
      "I would like 39 Eggs\n"
     ]
    }
   ],
   "source": [
    "myfunc(10,20,39,fruit='Orange', food=\"Eggs\")"
   ]
  },
  {
   "cell_type": "code",
   "execution_count": null,
   "id": "dadb84ce",
   "metadata": {},
   "outputs": [],
   "source": []
  }
 ],
 "metadata": {
  "kernelspec": {
   "display_name": "Python 3 (ipykernel)",
   "language": "python",
   "name": "python3"
  },
  "language_info": {
   "codemirror_mode": {
    "name": "ipython",
    "version": 3
   },
   "file_extension": ".py",
   "mimetype": "text/x-python",
   "name": "python",
   "nbconvert_exporter": "python",
   "pygments_lexer": "ipython3",
   "version": "3.11.4"
  }
 },
 "nbformat": 4,
 "nbformat_minor": 5
}
