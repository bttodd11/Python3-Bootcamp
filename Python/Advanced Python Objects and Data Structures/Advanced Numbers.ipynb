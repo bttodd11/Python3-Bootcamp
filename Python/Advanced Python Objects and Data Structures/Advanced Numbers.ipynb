{
 "cells": [
  {
   "cell_type": "code",
   "execution_count": 1,
   "id": "d5013494",
   "metadata": {},
   "outputs": [
    {
     "data": {
      "text/plain": [
       "'0xc'"
      ]
     },
     "execution_count": 1,
     "metadata": {},
     "output_type": "execute_result"
    }
   ],
   "source": [
    "# hex() is used to return the hexadecimal representation of a number\n",
    "hex(12)"
   ]
  },
  {
   "cell_type": "code",
   "execution_count": 2,
   "id": "891ce2e6",
   "metadata": {},
   "outputs": [
    {
     "data": {
      "text/plain": [
       "'0b1111000'"
      ]
     },
     "execution_count": 2,
     "metadata": {},
     "output_type": "execute_result"
    }
   ],
   "source": [
    "# bin() is used to return the binary representation of a number\n",
    "bin(120)"
   ]
  },
  {
   "cell_type": "code",
   "execution_count": 3,
   "id": "f46ac5af",
   "metadata": {},
   "outputs": [
    {
     "data": {
      "text/plain": [
       "16"
      ]
     },
     "execution_count": 3,
     "metadata": {},
     "output_type": "execute_result"
    }
   ],
   "source": [
    "# pow() is equivalent to x to the power of y\n",
    "pow(2,4)"
   ]
  },
  {
   "cell_type": "code",
   "execution_count": 4,
   "id": "26a65d2a",
   "metadata": {},
   "outputs": [
    {
     "data": {
      "text/plain": [
       "3"
      ]
     },
     "execution_count": 4,
     "metadata": {},
     "output_type": "execute_result"
    }
   ],
   "source": [
    "# abs() will return the absolute value\n",
    "abs(-3)"
   ]
  },
  {
   "cell_type": "code",
   "execution_count": 5,
   "id": "e18d5019",
   "metadata": {},
   "outputs": [
    {
     "data": {
      "text/plain": [
       "4"
      ]
     },
     "execution_count": 5,
     "metadata": {},
     "output_type": "execute_result"
    }
   ],
   "source": [
    "# round() rounds to the nearest decimal point\n",
    "round(3.9)"
   ]
  },
  {
   "cell_type": "code",
   "execution_count": 6,
   "id": "b5156f82",
   "metadata": {},
   "outputs": [
    {
     "data": {
      "text/plain": [
       "3.43"
      ]
     },
     "execution_count": 6,
     "metadata": {},
     "output_type": "execute_result"
    }
   ],
   "source": [
    "# round() can take multiple arguments depending on how many decimals you want to include\n",
    "round(3.43435435345,2)"
   ]
  },
  {
   "cell_type": "code",
   "execution_count": null,
   "id": "4e4a1431",
   "metadata": {},
   "outputs": [],
   "source": []
  }
 ],
 "metadata": {
  "kernelspec": {
   "display_name": "Python 3 (ipykernel)",
   "language": "python",
   "name": "python3"
  },
  "language_info": {
   "codemirror_mode": {
    "name": "ipython",
    "version": 3
   },
   "file_extension": ".py",
   "mimetype": "text/x-python",
   "name": "python",
   "nbconvert_exporter": "python",
   "pygments_lexer": "ipython3",
   "version": "3.11.4"
  }
 },
 "nbformat": 4,
 "nbformat_minor": 5
}
