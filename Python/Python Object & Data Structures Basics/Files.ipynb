{
 "cells": [
  {
   "cell_type": "markdown",
   "id": "cf0f26d8",
   "metadata": {},
   "source": [
    "<!-- %%writefile myFile.txt <- this is how you create a file in Jupyter Notebook -->"
   ]
  },
  {
   "cell_type": "code",
   "execution_count": 2,
   "id": "bb9da9c8",
   "metadata": {},
   "outputs": [
    {
     "name": "stdout",
     "output_type": "stream",
     "text": [
      "Overwriting myFile.txt\n"
     ]
    }
   ],
   "source": [
    "%%writefile myFile.txt\n",
    "This is my file\n",
    "This is my second line "
   ]
  },
  {
   "cell_type": "code",
   "execution_count": 3,
   "id": "ecddd081",
   "metadata": {},
   "outputs": [],
   "source": [
    "myFile = open('myFile.txt')"
   ]
  },
  {
   "cell_type": "code",
   "execution_count": 4,
   "id": "3424b1d9",
   "metadata": {},
   "outputs": [
    {
     "data": {
      "text/plain": [
       "'/Users/btodd/Repos/Python Work/Python'"
      ]
     },
     "execution_count": 4,
     "metadata": {},
     "output_type": "execute_result"
    }
   ],
   "source": [
    "pwd"
   ]
  },
  {
   "cell_type": "code",
   "execution_count": 5,
   "id": "8d250546",
   "metadata": {},
   "outputs": [
    {
     "data": {
      "text/plain": [
       "'This is my file\\nThis is my second line \\n'"
      ]
     },
     "execution_count": 5,
     "metadata": {},
     "output_type": "execute_result"
    }
   ],
   "source": [
    "myFile.read()"
   ]
  },
  {
   "cell_type": "code",
   "execution_count": 6,
   "id": "dbf5bde0",
   "metadata": {},
   "outputs": [
    {
     "data": {
      "text/plain": [
       "''"
      ]
     },
     "execution_count": 6,
     "metadata": {},
     "output_type": "execute_result"
    }
   ],
   "source": [
    "myFile.read()"
   ]
  },
  {
   "cell_type": "code",
   "execution_count": 7,
   "id": "7d28194c",
   "metadata": {},
   "outputs": [],
   "source": [
    "## myFile.seek(0) <- Will reset the cursor once you have already read the file once, you will need to start the cursor over after this has happened"
   ]
  },
  {
   "cell_type": "code",
   "execution_count": 8,
   "id": "d3ef3f17",
   "metadata": {},
   "outputs": [
    {
     "data": {
      "text/plain": [
       "0"
      ]
     },
     "execution_count": 8,
     "metadata": {},
     "output_type": "execute_result"
    }
   ],
   "source": [
    "myFile.seek(0)"
   ]
  },
  {
   "cell_type": "code",
   "execution_count": 9,
   "id": "c4d4c1c9",
   "metadata": {},
   "outputs": [
    {
     "data": {
      "text/plain": [
       "'This is my file\\nThis is my second line \\n'"
      ]
     },
     "execution_count": 9,
     "metadata": {},
     "output_type": "execute_result"
    }
   ],
   "source": [
    "myFile.read()"
   ]
  },
  {
   "cell_type": "code",
   "execution_count": 10,
   "id": "09faf5b0",
   "metadata": {},
   "outputs": [
    {
     "data": {
      "text/plain": [
       "0"
      ]
     },
     "execution_count": 10,
     "metadata": {},
     "output_type": "execute_result"
    }
   ],
   "source": [
    "myFile.seek(0)"
   ]
  },
  {
   "cell_type": "code",
   "execution_count": 11,
   "id": "337462dd",
   "metadata": {},
   "outputs": [
    {
     "data": {
      "text/plain": [
       "['This is my file\\n', 'This is my second line \\n']"
      ]
     },
     "execution_count": 11,
     "metadata": {},
     "output_type": "execute_result"
    }
   ],
   "source": [
    "myFile.readlines()"
   ]
  },
  {
   "cell_type": "code",
   "execution_count": 12,
   "id": "228a29c5",
   "metadata": {},
   "outputs": [],
   "source": [
    " myFile.close()"
   ]
  },
  {
   "cell_type": "code",
   "execution_count": 13,
   "id": "308432bd",
   "metadata": {},
   "outputs": [],
   "source": [
    "with open('myFile.txt') as newFile:\n",
    "    contents = newFile.read()"
   ]
  },
  {
   "cell_type": "code",
   "execution_count": 14,
   "id": "31dfb4c3",
   "metadata": {},
   "outputs": [
    {
     "data": {
      "text/plain": [
       "'This is my file\\nThis is my second line \\n'"
      ]
     },
     "execution_count": 14,
     "metadata": {},
     "output_type": "execute_result"
    }
   ],
   "source": [
    "contents"
   ]
  },
  {
   "cell_type": "code",
   "execution_count": 15,
   "id": "4a9ae2c4",
   "metadata": {},
   "outputs": [],
   "source": [
    "with open('myFile.txt', mode='r') as myFile:\n",
    "    contents = myFile.read()"
   ]
  },
  {
   "cell_type": "markdown",
   "id": "1d55dffd",
   "metadata": {},
   "source": [
    "mode = 'r' is read only |\n",
    "mode = 'w' is write only ( Overwrite or creates new file) |\n",
    "mode = 'a' is append only |\n",
    "mode = 'r+' is reading and writing |\n",
    "mode = 'w+' is writing and reading |\n"
   ]
  },
  {
   "cell_type": "code",
   "execution_count": 20,
   "id": "a38ecf8e",
   "metadata": {},
   "outputs": [
    {
     "name": "stdout",
     "output_type": "stream",
     "text": [
      "This is my file\n",
      "This is my second line \n",
      "We did the work\n"
     ]
    }
   ],
   "source": [
    "with open('myfile.txt', mode = 'r') as f:\n",
    "    print(f.read())"
   ]
  },
  {
   "cell_type": "code",
   "execution_count": 19,
   "id": "6f916fea",
   "metadata": {},
   "outputs": [],
   "source": [
    "with open('myfile.txt', mode = 'a') as f:\n",
    "    f.write(\"We did the work\")"
   ]
  },
  {
   "cell_type": "code",
   "execution_count": 21,
   "id": "60fe3fe0",
   "metadata": {},
   "outputs": [],
   "source": [
    "with open('erwerwre', mode = 'w') as f:\n",
    "    f.write(\"I Created this file\")"
   ]
  },
  {
   "cell_type": "code",
   "execution_count": 22,
   "id": "1a277e1e",
   "metadata": {},
   "outputs": [
    {
     "name": "stdout",
     "output_type": "stream",
     "text": [
      "I Created this file\n"
     ]
    }
   ],
   "source": [
    "with open('erwerwre', mode = 'r') as f:\n",
    "    print(f.read())"
   ]
  },
  {
   "cell_type": "code",
   "execution_count": null,
   "id": "109f6fed",
   "metadata": {},
   "outputs": [],
   "source": []
  }
 ],
 "metadata": {
  "kernelspec": {
   "display_name": "Python 3 (ipykernel)",
   "language": "python",
   "name": "python3"
  },
  "language_info": {
   "codemirror_mode": {
    "name": "ipython",
    "version": 3
   },
   "file_extension": ".py",
   "mimetype": "text/x-python",
   "name": "python",
   "nbconvert_exporter": "python",
   "pygments_lexer": "ipython3",
   "version": "3.11.4"
  }
 },
 "nbformat": 4,
 "nbformat_minor": 5
}
