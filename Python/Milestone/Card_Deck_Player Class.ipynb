{
 "cells": [
  {
   "cell_type": "code",
   "execution_count": 1,
   "id": "dfe1ada4",
   "metadata": {},
   "outputs": [],
   "source": [
    "import random\n",
    "suits = ('Hearts', 'Diamonds', 'Spades', 'Clubs')\n",
    "ranks = ('Two', 'Three', 'Four', 'Five', 'Six', 'Seven', 'Eight', 'Nine', 'Ten', 'Jack', 'Queen', 'King', 'Ace')\n",
    "values = {'Two':2, 'Three':3, 'Four':4, 'Five':5, 'Six':6, 'Seven':7, 'Eight':8, \n",
    "            'Nine':9, 'Ten':10, 'Jack':11, 'Queen':12, 'King':13, 'Ace': 14 }"
   ]
  },
  {
   "cell_type": "code",
   "execution_count": 2,
   "id": "fa979efa",
   "metadata": {},
   "outputs": [],
   "source": [
    "# Card class\n",
    "# Should understand suit\n",
    "# Should understand rank of the card\n",
    "\n",
    "class Card:\n",
    "    \n",
    "    def __init__(self, suit, rank):\n",
    "        self.suit = suit\n",
    "        self.rank = rank\n",
    "        self.value = values[rank]\n",
    "        \n",
    "    def __str__(self):\n",
    "        return self.rank + \" of \" + self.suit"
   ]
  },
  {
   "cell_type": "code",
   "execution_count": 3,
   "id": "63867f02",
   "metadata": {},
   "outputs": [],
   "source": [
    "class Deck:\n",
    "    \n",
    "    def __init__(self):\n",
    "        \n",
    "        self.all_cards = []\n",
    "        \n",
    "        for suit in suits:\n",
    "            \n",
    "            for rank in ranks:\n",
    "                \n",
    "                created_card = Card(suit, rank)\n",
    "                #Create the card object\n",
    "                self.all_cards.append(created_card)\n",
    "                \n",
    "    def shuffle(self):\n",
    "        \n",
    "        random.shuffle(self.all_cards)\n",
    "        \n",
    "    def dealOne(self):\n",
    "        \n",
    "        return self.all_cards.pop()"
   ]
  },
  {
   "cell_type": "code",
   "execution_count": 4,
   "id": "d0d39d4a",
   "metadata": {},
   "outputs": [],
   "source": [
    "class Player:\n",
    "    \n",
    "    def __init__(self, name):\n",
    "        \n",
    "        self.name = name\n",
    "        self.all_cards = []\n",
    "        \n",
    "        \n",
    "    def remove_one(self):\n",
    "        return self.all_cards.pop(0)\n",
    "    \n",
    "    def add_cards(self, new_cards):\n",
    "        \n",
    "        # List of multiple cards\n",
    "        if type(new_cards) == type([]):\n",
    "            self.all_cards.extend(new_cards)\n",
    "        else:\n",
    "            self.all_cards.append(new_cards)\n",
    "    \n",
    "    def __str__(self):\n",
    "        return 'Player {} has {} cards.'.format(self.name, len(self.all_cards))\n",
    "        \n",
    "        "
   ]
  },
  {
   "cell_type": "code",
   "execution_count": 6,
   "id": "edf091ca",
   "metadata": {},
   "outputs": [
    {
     "ename": "NameError",
     "evalue": "name 'two_hearts' is not defined",
     "output_type": "error",
     "traceback": [
      "\u001b[0;31m---------------------------------------------------------------------------\u001b[0m",
      "\u001b[0;31mNameError\u001b[0m                                 Traceback (most recent call last)",
      "Cell \u001b[0;32mIn[6], line 1\u001b[0m\n\u001b[0;32m----> 1\u001b[0m \u001b[38;5;28mprint\u001b[39m(two_hearts)\n",
      "\u001b[0;31mNameError\u001b[0m: name 'two_hearts' is not defined"
     ]
    }
   ],
   "source": [
    "print(two_hearts)"
   ]
  },
  {
   "cell_type": "code",
   "execution_count": null,
   "id": "9e7352f1",
   "metadata": {},
   "outputs": [],
   "source": [
    "two_hearts.suit"
   ]
  },
  {
   "cell_type": "code",
   "execution_count": 7,
   "id": "7ab634dc",
   "metadata": {},
   "outputs": [
    {
     "ename": "NameError",
     "evalue": "name 'two_hearts' is not defined",
     "output_type": "error",
     "traceback": [
      "\u001b[0;31m---------------------------------------------------------------------------\u001b[0m",
      "\u001b[0;31mNameError\u001b[0m                                 Traceback (most recent call last)",
      "Cell \u001b[0;32mIn[7], line 1\u001b[0m\n\u001b[0;32m----> 1\u001b[0m two_hearts\u001b[38;5;241m.\u001b[39mrank\n",
      "\u001b[0;31mNameError\u001b[0m: name 'two_hearts' is not defined"
     ]
    }
   ],
   "source": [
    "two_hearts.rank"
   ]
  },
  {
   "cell_type": "code",
   "execution_count": 8,
   "id": "97d8932d",
   "metadata": {},
   "outputs": [
    {
     "ename": "NameError",
     "evalue": "name 'two_hearts' is not defined",
     "output_type": "error",
     "traceback": [
      "\u001b[0;31m---------------------------------------------------------------------------\u001b[0m",
      "\u001b[0;31mNameError\u001b[0m                                 Traceback (most recent call last)",
      "Cell \u001b[0;32mIn[8], line 1\u001b[0m\n\u001b[0;32m----> 1\u001b[0m values[two_hearts\u001b[38;5;241m.\u001b[39mrank]\n",
      "\u001b[0;31mNameError\u001b[0m: name 'two_hearts' is not defined"
     ]
    }
   ],
   "source": [
    "values[two_hearts.rank]"
   ]
  },
  {
   "cell_type": "code",
   "execution_count": 9,
   "id": "fa5e243b",
   "metadata": {},
   "outputs": [],
   "source": [
    "three_of_clubs = Card(\"Clubs\", \"Three\")"
   ]
  },
  {
   "cell_type": "code",
   "execution_count": 10,
   "id": "5044c01d",
   "metadata": {},
   "outputs": [
    {
     "data": {
      "text/plain": [
       "'Clubs'"
      ]
     },
     "execution_count": 10,
     "metadata": {},
     "output_type": "execute_result"
    }
   ],
   "source": [
    "three_of_clubs.suit"
   ]
  },
  {
   "cell_type": "code",
   "execution_count": 11,
   "id": "b0416854",
   "metadata": {},
   "outputs": [
    {
     "data": {
      "text/plain": [
       "'Three'"
      ]
     },
     "execution_count": 11,
     "metadata": {},
     "output_type": "execute_result"
    }
   ],
   "source": [
    "three_of_clubs.rank"
   ]
  },
  {
   "cell_type": "code",
   "execution_count": 12,
   "id": "b8e97827",
   "metadata": {},
   "outputs": [
    {
     "data": {
      "text/plain": [
       "3"
      ]
     },
     "execution_count": 12,
     "metadata": {},
     "output_type": "execute_result"
    }
   ],
   "source": [
    "three_of_clubs.value"
   ]
  },
  {
   "cell_type": "code",
   "execution_count": 13,
   "id": "1fcb2ff0",
   "metadata": {},
   "outputs": [
    {
     "ename": "NameError",
     "evalue": "name 'two_hearts' is not defined",
     "output_type": "error",
     "traceback": [
      "\u001b[0;31m---------------------------------------------------------------------------\u001b[0m",
      "\u001b[0;31mNameError\u001b[0m                                 Traceback (most recent call last)",
      "Cell \u001b[0;32mIn[13], line 1\u001b[0m\n\u001b[0;32m----> 1\u001b[0m two_hearts\u001b[38;5;241m.\u001b[39mvalue \u001b[38;5;241m<\u001b[39m three_of_clubs\u001b[38;5;241m.\u001b[39mvalue\n",
      "\u001b[0;31mNameError\u001b[0m: name 'two_hearts' is not defined"
     ]
    }
   ],
   "source": [
    " two_hearts.value < three_of_clubs.value"
   ]
  },
  {
   "cell_type": "code",
   "execution_count": 14,
   "id": "b51d9f38",
   "metadata": {},
   "outputs": [],
   "source": [
    "new_Deck = Deck()"
   ]
  },
  {
   "cell_type": "code",
   "execution_count": 15,
   "id": "c944652c",
   "metadata": {},
   "outputs": [],
   "source": [
    "first_card = new_Deck.all_cards[8]"
   ]
  },
  {
   "cell_type": "code",
   "execution_count": 16,
   "id": "afa95e87",
   "metadata": {},
   "outputs": [
    {
     "name": "stdout",
     "output_type": "stream",
     "text": [
      "Ten of Hearts\n"
     ]
    }
   ],
   "source": [
    "print(first_card)"
   ]
  },
  {
   "cell_type": "code",
   "execution_count": 17,
   "id": "c507c073",
   "metadata": {},
   "outputs": [
    {
     "name": "stdout",
     "output_type": "stream",
     "text": [
      "Two of Hearts\n",
      "Three of Hearts\n",
      "Four of Hearts\n",
      "Five of Hearts\n",
      "Six of Hearts\n",
      "Seven of Hearts\n",
      "Eight of Hearts\n",
      "Nine of Hearts\n",
      "Ten of Hearts\n",
      "Jack of Hearts\n",
      "Queen of Hearts\n",
      "King of Hearts\n",
      "Ace of Hearts\n",
      "Two of Diamonds\n",
      "Three of Diamonds\n",
      "Four of Diamonds\n",
      "Five of Diamonds\n",
      "Six of Diamonds\n",
      "Seven of Diamonds\n",
      "Eight of Diamonds\n",
      "Nine of Diamonds\n",
      "Ten of Diamonds\n",
      "Jack of Diamonds\n",
      "Queen of Diamonds\n",
      "King of Diamonds\n",
      "Ace of Diamonds\n",
      "Two of Spades\n",
      "Three of Spades\n",
      "Four of Spades\n",
      "Five of Spades\n",
      "Six of Spades\n",
      "Seven of Spades\n",
      "Eight of Spades\n",
      "Nine of Spades\n",
      "Ten of Spades\n",
      "Jack of Spades\n",
      "Queen of Spades\n",
      "King of Spades\n",
      "Ace of Spades\n",
      "Two of Clubs\n",
      "Three of Clubs\n",
      "Four of Clubs\n",
      "Five of Clubs\n",
      "Six of Clubs\n",
      "Seven of Clubs\n",
      "Eight of Clubs\n",
      "Nine of Clubs\n",
      "Ten of Clubs\n",
      "Jack of Clubs\n",
      "Queen of Clubs\n",
      "King of Clubs\n",
      "Ace of Clubs\n"
     ]
    }
   ],
   "source": [
    "for cardObject in new_Deck.all_cards:\n",
    "    print(cardObject)"
   ]
  },
  {
   "cell_type": "code",
   "execution_count": 18,
   "id": "b06e9868",
   "metadata": {},
   "outputs": [],
   "source": [
    "new_Deck.shuffle()"
   ]
  },
  {
   "cell_type": "code",
   "execution_count": 19,
   "id": "84a75ec5",
   "metadata": {},
   "outputs": [],
   "source": [
    "mycard = new_Deck.dealOne()"
   ]
  },
  {
   "cell_type": "code",
   "execution_count": 20,
   "id": "b47ba063",
   "metadata": {},
   "outputs": [
    {
     "name": "stdout",
     "output_type": "stream",
     "text": [
      "King of Clubs\n"
     ]
    }
   ],
   "source": [
    "print(mycard)"
   ]
  },
  {
   "cell_type": "code",
   "execution_count": 21,
   "id": "d201b285",
   "metadata": {
    "scrolled": true
   },
   "outputs": [
    {
     "data": {
      "text/plain": [
       "51"
      ]
     },
     "execution_count": 21,
     "metadata": {},
     "output_type": "execute_result"
    }
   ],
   "source": [
    "len(new_Deck.all_cards)"
   ]
  },
  {
   "cell_type": "code",
   "execution_count": 22,
   "id": "e78a15e9",
   "metadata": {},
   "outputs": [
    {
     "ename": "NameError",
     "evalue": "name 'new_player' is not defined",
     "output_type": "error",
     "traceback": [
      "\u001b[0;31m---------------------------------------------------------------------------\u001b[0m",
      "\u001b[0;31mNameError\u001b[0m                                 Traceback (most recent call last)",
      "Cell \u001b[0;32mIn[22], line 1\u001b[0m\n\u001b[0;32m----> 1\u001b[0m \u001b[38;5;28mprint\u001b[39m(new_player)\n",
      "\u001b[0;31mNameError\u001b[0m: name 'new_player' is not defined"
     ]
    }
   ],
   "source": [
    "print(new_player)"
   ]
  },
  {
   "cell_type": "code",
   "execution_count": 23,
   "id": "15450333",
   "metadata": {},
   "outputs": [
    {
     "ename": "NameError",
     "evalue": "name 'new_player' is not defined",
     "output_type": "error",
     "traceback": [
      "\u001b[0;31m---------------------------------------------------------------------------\u001b[0m",
      "\u001b[0;31mNameError\u001b[0m                                 Traceback (most recent call last)",
      "Cell \u001b[0;32mIn[23], line 1\u001b[0m\n\u001b[0;32m----> 1\u001b[0m new_player\u001b[38;5;241m.\u001b[39madd_cards(mycard)\n",
      "\u001b[0;31mNameError\u001b[0m: name 'new_player' is not defined"
     ]
    }
   ],
   "source": [
    "new_player.add_cards(mycard)"
   ]
  },
  {
   "cell_type": "code",
   "execution_count": 24,
   "id": "36f69b31",
   "metadata": {},
   "outputs": [
    {
     "ename": "NameError",
     "evalue": "name 'new_player' is not defined",
     "output_type": "error",
     "traceback": [
      "\u001b[0;31m---------------------------------------------------------------------------\u001b[0m",
      "\u001b[0;31mNameError\u001b[0m                                 Traceback (most recent call last)",
      "Cell \u001b[0;32mIn[24], line 1\u001b[0m\n\u001b[0;32m----> 1\u001b[0m new_player\u001b[38;5;241m.\u001b[39mall_cards\n",
      "\u001b[0;31mNameError\u001b[0m: name 'new_player' is not defined"
     ]
    }
   ],
   "source": [
    "new_player.all_cards"
   ]
  },
  {
   "cell_type": "code",
   "execution_count": 25,
   "id": "f05d2a26",
   "metadata": {},
   "outputs": [
    {
     "name": "stdout",
     "output_type": "stream",
     "text": [
      "King of Clubs\n"
     ]
    }
   ],
   "source": [
    "print(mycard)"
   ]
  },
  {
   "cell_type": "code",
   "execution_count": 26,
   "id": "b4cab9d8",
   "metadata": {},
   "outputs": [
    {
     "ename": "NameError",
     "evalue": "name 'new_player' is not defined",
     "output_type": "error",
     "traceback": [
      "\u001b[0;31m---------------------------------------------------------------------------\u001b[0m",
      "\u001b[0;31mNameError\u001b[0m                                 Traceback (most recent call last)",
      "Cell \u001b[0;32mIn[26], line 1\u001b[0m\n\u001b[0;32m----> 1\u001b[0m new_player\u001b[38;5;241m.\u001b[39madd_cards(mycard)\n",
      "\u001b[0;31mNameError\u001b[0m: name 'new_player' is not defined"
     ]
    }
   ],
   "source": [
    "new_player.add_cards(mycard)"
   ]
  },
  {
   "cell_type": "code",
   "execution_count": 27,
   "id": "422c2f6c",
   "metadata": {},
   "outputs": [
    {
     "ename": "NameError",
     "evalue": "name 'new_player' is not defined",
     "output_type": "error",
     "traceback": [
      "\u001b[0;31m---------------------------------------------------------------------------\u001b[0m",
      "\u001b[0;31mNameError\u001b[0m                                 Traceback (most recent call last)",
      "Cell \u001b[0;32mIn[27], line 1\u001b[0m\n\u001b[0;32m----> 1\u001b[0m \u001b[38;5;28mprint\u001b[39m(new_player)\n",
      "\u001b[0;31mNameError\u001b[0m: name 'new_player' is not defined"
     ]
    }
   ],
   "source": [
    "print(new_player)"
   ]
  },
  {
   "cell_type": "code",
   "execution_count": 28,
   "id": "59cd0956",
   "metadata": {},
   "outputs": [],
   "source": [
    "new_player1 = Player(\"Tyson\")"
   ]
  },
  {
   "cell_type": "code",
   "execution_count": 29,
   "id": "7274dcf6",
   "metadata": {},
   "outputs": [
    {
     "data": {
      "text/plain": [
       "<__main__.Card at 0x10ec40750>"
      ]
     },
     "execution_count": 29,
     "metadata": {},
     "output_type": "execute_result"
    }
   ],
   "source": [
    "mycard"
   ]
  },
  {
   "cell_type": "code",
   "execution_count": 30,
   "id": "01947bf9",
   "metadata": {},
   "outputs": [
    {
     "name": "stdout",
     "output_type": "stream",
     "text": [
      "King of Clubs\n"
     ]
    }
   ],
   "source": [
    "print(mycard)"
   ]
  },
  {
   "cell_type": "code",
   "execution_count": 31,
   "id": "aa138226",
   "metadata": {},
   "outputs": [
    {
     "name": "stdout",
     "output_type": "stream",
     "text": [
      "King of Clubs\n"
     ]
    }
   ],
   "source": [
    "print(mycard)"
   ]
  },
  {
   "cell_type": "code",
   "execution_count": 32,
   "id": "b0499354",
   "metadata": {},
   "outputs": [],
   "source": [
    "new_player1.add_cards(mycard)"
   ]
  },
  {
   "cell_type": "code",
   "execution_count": 33,
   "id": "8fcf65ad",
   "metadata": {},
   "outputs": [
    {
     "data": {
      "text/plain": [
       "<__main__.Player at 0x10ec89c10>"
      ]
     },
     "execution_count": 33,
     "metadata": {},
     "output_type": "execute_result"
    }
   ],
   "source": [
    "new_player1"
   ]
  },
  {
   "cell_type": "code",
   "execution_count": 34,
   "id": "db649a55",
   "metadata": {},
   "outputs": [
    {
     "name": "stdout",
     "output_type": "stream",
     "text": [
      "Player Tyson has 1 cards.\n"
     ]
    }
   ],
   "source": [
    "print(new_player1)"
   ]
  },
  {
   "cell_type": "code",
   "execution_count": 109,
   "id": "95b12fe0",
   "metadata": {},
   "outputs": [
    {
     "name": "stdout",
     "output_type": "stream",
     "text": [
      "Nine of Diamonds\n"
     ]
    }
   ],
   "source": [
    "print(new_player1.all_cards[0])"
   ]
  },
  {
   "cell_type": "code",
   "execution_count": 110,
   "id": "2a5ddf27",
   "metadata": {},
   "outputs": [],
   "source": [
    "new_player1.add_cards([mycard,mycard,mycard])"
   ]
  },
  {
   "cell_type": "code",
   "execution_count": 111,
   "id": "868e1b3e",
   "metadata": {},
   "outputs": [
    {
     "name": "stdout",
     "output_type": "stream",
     "text": [
      "Player Tyson has 4 cards.\n"
     ]
    }
   ],
   "source": [
    "print(new_player1)"
   ]
  },
  {
   "cell_type": "code",
   "execution_count": 112,
   "id": "cb791d63",
   "metadata": {},
   "outputs": [
    {
     "data": {
      "text/plain": [
       "<__main__.Card at 0x10f0e44d0>"
      ]
     },
     "execution_count": 112,
     "metadata": {},
     "output_type": "execute_result"
    }
   ],
   "source": [
    "new_player1.remove_one()"
   ]
  },
  {
   "cell_type": "code",
   "execution_count": 113,
   "id": "793d0deb",
   "metadata": {},
   "outputs": [
    {
     "name": "stdout",
     "output_type": "stream",
     "text": [
      "Player Tyson has 3 cards.\n"
     ]
    }
   ],
   "source": [
    "print(new_player1)"
   ]
  },
  {
   "cell_type": "code",
   "execution_count": 5,
   "id": "31052895",
   "metadata": {},
   "outputs": [],
   "source": [
    "#Game Setup\n",
    "player1 = Player(\"One\")\n",
    "player2 = Player(\"Two\")\n",
    "\n",
    "newDeck = Deck()\n",
    "newDeck.shuffle()\n",
    "\n",
    "for x in range(26):\n",
    "    player1.add_cards(newDeck.dealOne())\n",
    "    player2.add_cards(newDeck.dealOne())"
   ]
  },
  {
   "cell_type": "code",
   "execution_count": 6,
   "id": "8e6a6ff9",
   "metadata": {},
   "outputs": [],
   "source": [
    "game_on = True"
   ]
  },
  {
   "cell_type": "code",
   "execution_count": 7,
   "id": "cefd6ef6",
   "metadata": {},
   "outputs": [
    {
     "name": "stdout",
     "output_type": "stream",
     "text": [
      "Currently on round 1\n",
      "Currently on round 2\n",
      "Currently on round 3\n",
      "Currently on round 4\n",
      "Currently on round 5\n",
      "Currently on round 6\n",
      "Currently on round 7\n",
      "Currently on round 8\n",
      "Currently on round 9\n",
      "Currently on round 10\n",
      "Currently on round 11\n",
      "Currently on round 12\n",
      "Currently on round 13\n",
      "Currently on round 14\n",
      "Currently on round 15\n",
      "Currently on round 16\n",
      "Currently on round 17\n",
      "Currently on round 18\n",
      "Currently on round 19\n",
      "Currently on round 20\n",
      "Currently on round 21\n",
      "Currently on round 22\n",
      "Currently on round 23\n",
      "Currently on round 24\n",
      "Currently on round 25\n",
      "Currently on round 26\n",
      "Currently on round 27\n",
      "Currently on round 28\n",
      "Currently on round 29\n",
      "Currently on round 30\n",
      "Currently on round 31\n",
      "Currently on round 32\n",
      "Currently on round 33\n",
      "War !! \n",
      "Currently on round 34\n",
      "Currently on round 35\n",
      "Currently on round 36\n",
      "Currently on round 37\n",
      "Currently on round 38\n",
      "Currently on round 39\n",
      "Currently on round 40\n",
      "Currently on round 41\n",
      "Currently on round 42\n",
      "War !! \n",
      "Currently on round 43\n",
      "Currently on round 44\n",
      "Currently on round 45\n",
      "Currently on round 46\n",
      "Currently on round 47\n",
      "Currently on round 48\n",
      "War !! \n",
      "Currently on round 49\n",
      "Currently on round 50\n",
      "Currently on round 51\n",
      "Currently on round 52\n",
      "Currently on round 53\n",
      "Currently on round 54\n",
      "Currently on round 55\n",
      "Currently on round 56\n",
      "Currently on round 57\n",
      "Currently on round 58\n",
      "Currently on round 59\n",
      "Currently on round 60\n",
      "War !! \n",
      "Currently on round 61\n",
      "Currently on round 62\n",
      "Currently on round 63\n",
      "Currently on round 64\n",
      "War !! \n",
      "Currently on round 65\n",
      "Currently on round 66\n",
      "Currently on round 67\n",
      "Currently on round 68\n",
      "Currently on round 69\n",
      "Currently on round 70\n",
      "Currently on round 71\n",
      "Currently on round 72\n",
      "Currently on round 73\n",
      "Currently on round 74\n",
      "Currently on round 75\n",
      "War !! \n",
      "Currently on round 76\n",
      "Currently on round 77\n",
      "Currently on round 78\n",
      "Currently on round 79\n",
      "Currently on round 80\n",
      "Currently on round 81\n",
      "Currently on round 82\n",
      "Currently on round 83\n",
      "Currently on round 84\n",
      "Currently on round 85\n",
      "Currently on round 86\n",
      "Currently on round 87\n",
      "Currently on round 88\n",
      "Currently on round 89\n",
      "Currently on round 90\n",
      "Currently on round 91\n",
      "Currently on round 92\n",
      "Currently on round 93\n",
      "Currently on round 94\n",
      "Currently on round 95\n",
      "War !! \n",
      "Currently on round 96\n",
      "Currently on round 97\n",
      "Currently on round 98\n",
      "Currently on round 99\n",
      "Currently on round 100\n",
      "Currently on round 101\n",
      "Currently on round 102\n",
      "Currently on round 103\n",
      "Currently on round 104\n",
      "Currently on round 105\n",
      "Currently on round 106\n",
      "Currently on round 107\n",
      "Currently on round 108\n",
      "Currently on round 109\n",
      "Currently on round 110\n",
      "Currently on round 111\n",
      "Currently on round 112\n",
      "Currently on round 113\n",
      "Currently on round 114\n",
      "Currently on round 115\n",
      "Currently on round 116\n",
      "Currently on round 117\n",
      "Currently on round 118\n",
      "Currently on round 119\n",
      "Currently on round 120\n",
      "Currently on round 121\n",
      "Currently on round 122\n",
      "Currently on round 123\n",
      "War !! \n",
      "Currently on round 124\n",
      "Currently on round 125\n",
      "Currently on round 126\n",
      "Currently on round 127\n",
      "Currently on round 128\n",
      "Currently on round 129\n",
      "Currently on round 130\n",
      "Currently on round 131\n",
      "Currently on round 132\n",
      "Currently on round 133\n",
      "Currently on round 134\n",
      "Currently on round 135\n",
      "Currently on round 136\n",
      "Currently on round 137\n",
      "Currently on round 138\n",
      "Currently on round 139\n",
      "Currently on round 140\n",
      "Currently on round 141\n",
      "Currently on round 142\n",
      "Currently on round 143\n",
      "Currently on round 144\n",
      "Currently on round 145\n",
      "Currently on round 146\n",
      "Currently on round 147\n",
      "Currently on round 148\n",
      "Currently on round 149\n",
      "Currently on round 150\n",
      "Currently on round 151\n",
      "Currently on round 152\n",
      "Currently on round 153\n",
      "Currently on round 154\n",
      "Currently on round 155\n",
      "Currently on round 156\n",
      "Currently on round 157\n",
      "Currently on round 158\n",
      "Currently on round 159\n",
      "Currently on round 160\n",
      "Currently on round 161\n",
      "Currently on round 162\n",
      "Currently on round 163\n",
      "Currently on round 164\n",
      "Currently on round 165\n",
      "Currently on round 166\n",
      "Currently on round 167\n",
      "Currently on round 168\n",
      "Currently on round 169\n",
      "Currently on round 170\n",
      "Currently on round 171\n",
      "Currently on round 172\n",
      "Currently on round 173\n",
      "Currently on round 174\n",
      "Currently on round 175\n",
      "Currently on round 176\n",
      "Currently on round 177\n",
      "Currently on round 178\n",
      "Currently on round 179\n",
      "Currently on round 180\n",
      "Currently on round 181\n",
      "Currently on round 182\n",
      "Currently on round 183\n",
      "Currently on round 184\n",
      "Currently on round 185\n",
      "Currently on round 186\n",
      "Currently on round 187\n",
      "Currently on round 188\n",
      "Currently on round 189\n",
      "Currently on round 190\n",
      "Currently on round 191\n",
      "Currently on round 192\n",
      "War !! \n",
      "Currently on round 193\n",
      "Currently on round 194\n",
      "Currently on round 195\n",
      "Currently on round 196\n",
      "Currently on round 197\n",
      "Currently on round 198\n",
      "Currently on round 199\n",
      "Currently on round 200\n",
      "Currently on round 201\n",
      "Currently on round 202\n",
      "Currently on round 203\n",
      "Currently on round 204\n",
      "Currently on round 205\n",
      "Currently on round 206\n",
      "Currently on round 207\n",
      "Currently on round 208\n",
      "Currently on round 209\n",
      "War !! \n",
      "Currently on round 210\n",
      "Currently on round 211\n",
      "Currently on round 212\n",
      "Currently on round 213\n",
      "Currently on round 214\n",
      "Currently on round 215\n",
      "Currently on round 216\n",
      "Currently on round 217\n",
      "Currently on round 218\n",
      "Currently on round 219\n",
      "Currently on round 220\n",
      "Currently on round 221\n",
      "Currently on round 222\n",
      "Currently on round 223\n",
      "Currently on round 224\n",
      "Currently on round 225\n",
      "Currently on round 226\n",
      "Currently on round 227\n",
      "Currently on round 228\n",
      "Currently on round 229\n",
      "Currently on round 230\n",
      "Currently on round 231\n",
      "Currently on round 232\n",
      "Currently on round 233\n",
      "Currently on round 234\n",
      "Currently on round 235\n",
      "Currently on round 236\n",
      "War !! \n",
      "Currently on round 237\n",
      "Currently on round 238\n",
      "Currently on round 239\n",
      "Currently on round 240\n",
      "Currently on round 241\n",
      "Currently on round 242\n",
      "Currently on round 243\n",
      "Currently on round 244\n",
      "Currently on round 245\n",
      "Currently on round 246\n",
      "Currently on round 247\n",
      "Currently on round 248\n",
      "Currently on round 249\n",
      "Currently on round 250\n",
      "War !! \n",
      "Player 2 cannot play war, Player 1 wins !\n"
     ]
    }
   ],
   "source": [
    "round_num = 0\n",
    "\n",
    "while game_on:\n",
    "    \n",
    "    round_num += 1\n",
    "    print(\"Currently on round {}\".format(round_num))\n",
    "    \n",
    "    #Checking to see if anyone is losing\n",
    "    if len(player1.all_cards) == 0:\n",
    "        print(\"Player2 wins !\")\n",
    "        game_on = False\n",
    "        break\n",
    "    \n",
    "    \n",
    "    if len(player2.all_cards) == 0:\n",
    "        print(\"Player1 wins !\")\n",
    "        game_on = False\n",
    "        break\n",
    "        \n",
    "    #Emptying the list and adding a card\n",
    "    player_one_cards = []\n",
    "    player_one_cards.append(player1.remove_one())\n",
    "                            \n",
    "    player_two_cards = []\n",
    "    player_two_cards.append(player2.remove_one())\n",
    "    \n",
    "    \n",
    "    #While at war\n",
    "    \n",
    "    at_war = True\n",
    "    \n",
    "    while at_war:\n",
    "        \n",
    "        if(player_one_cards[-1].value > player_two_cards[-1].value):\n",
    "        \n",
    "            player1.add_cards(player_one_cards)\n",
    "            player1.add_cards(player_two_cards)\n",
    "            at_war = False\n",
    "        \n",
    "        elif(player_two_cards[-1].value > player_one_cards[-1].value):\n",
    "        \n",
    "            player2.add_cards(player_one_cards)\n",
    "            player2.add_cards(player_two_cards)\n",
    "            at_war = False\n",
    "\n",
    "        else:\n",
    "        \n",
    "            print(\"War !! \")\n",
    "        \n",
    "            if len(player1.all_cards) < 5:\n",
    "                print(\"Player 1 cannot play war, Player 2 wins !\")\n",
    "                game_on = False\n",
    "                break\n",
    "            \n",
    "            elif len(player2.all_cards) < 5:\n",
    "                print(\"Player 2 cannot play war, Player 1 wins !\")\n",
    "                game_on = False\n",
    "                break\n",
    "            \n",
    "            else:\n",
    "                for num in range(3):\n",
    "                    player_one_cards.append(player1.remove_one())\n",
    "                    player_two_cards.append(player2.remove_one())\n",
    "\n",
    "        \n",
    "            \n",
    "        "
   ]
  },
  {
   "cell_type": "code",
   "execution_count": null,
   "id": "289dcacd",
   "metadata": {},
   "outputs": [],
   "source": []
  }
 ],
 "metadata": {
  "kernelspec": {
   "display_name": "Python 3 (ipykernel)",
   "language": "python",
   "name": "python3"
  },
  "language_info": {
   "codemirror_mode": {
    "name": "ipython",
    "version": 3
   },
   "file_extension": ".py",
   "mimetype": "text/x-python",
   "name": "python",
   "nbconvert_exporter": "python",
   "pygments_lexer": "ipython3",
   "version": "3.11.4"
  }
 },
 "nbformat": 4,
 "nbformat_minor": 5
}
