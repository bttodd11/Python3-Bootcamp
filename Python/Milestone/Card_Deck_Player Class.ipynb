{
 "cells": [
  {
   "cell_type": "code",
   "execution_count": 28,
   "id": "dfe1ada4",
   "metadata": {},
   "outputs": [],
   "source": [
    "import random\n",
    "suits = ('Hearts', 'Diamonds', 'Spades', 'Clubs')\n",
    "ranks = ('Two', 'Three', 'Four', 'Five', 'Six', 'Seven', 'Eight', 'Nine', 'Ten', 'Jack', 'Queen', 'King', 'Ace')\n",
    "values = {'Two':2, 'Three':3, 'Four':4, 'Five':5, 'Six':6, 'Seven':7, 'Eight':8, \n",
    "            'Nine':9, 'Ten':10, 'Jack':11, 'Queen':12, 'King':13, 'Ace': 14 }"
   ]
  },
  {
   "cell_type": "code",
   "execution_count": 30,
   "id": "fa979efa",
   "metadata": {},
   "outputs": [],
   "source": [
    "# Card class\n",
    "# Should understand suit\n",
    "# Should understand rank of the card\n",
    "\n",
    "class Card:\n",
    "    \n",
    "    def __init__(self, suit, rank):\n",
    "        self.suit = suit\n",
    "        self.rank = rank\n",
    "        self.value = values[rank]\n",
    "        \n",
    "    def __str__(self):\n",
    "        return self.rank + \" of \" + self.suit"
   ]
  },
  {
   "cell_type": "code",
   "execution_count": 47,
   "id": "63867f02",
   "metadata": {},
   "outputs": [],
   "source": [
    "class Deck:\n",
    "    \n",
    "    def __init__(self):\n",
    "        \n",
    "        self.all_cards = []\n",
    "        \n",
    "        for suit in suits:\n",
    "            \n",
    "            for rank in ranks:\n",
    "                \n",
    "                created_card = Card(suit, rank)\n",
    "                #Create the card object\n",
    "                self.all_cards.append(created_card)\n",
    "                \n",
    "    def shuffle(self):\n",
    "        \n",
    "        random.shuffle(self.all_cards)\n",
    "        \n",
    "    def dealOne(self):\n",
    "        \n",
    "        return self.all_cards.pop()"
   ]
  },
  {
   "cell_type": "code",
   "execution_count": 101,
   "id": "d0d39d4a",
   "metadata": {},
   "outputs": [],
   "source": [
    "class Player:\n",
    "    \n",
    "    def __init__(self, name):\n",
    "        \n",
    "        self.name = name\n",
    "        self.all_cards = []\n",
    "        \n",
    "        \n",
    "    def remove_one(self):\n",
    "        return self.all_cards.pop(0)\n",
    "    \n",
    "    def add_cards(self, new_cards):\n",
    "        \n",
    "        # List of multiple cards\n",
    "        if type(new_cards) == type([]):\n",
    "            self.all_cards.extend(new_cards)\n",
    "        else:\n",
    "            self.all_cards.append(new_cards)\n",
    "    \n",
    "    def __str__(self):\n",
    "        return 'Player {} has {} cards.'.format(self.name, len(self.all_cards))\n",
    "        \n",
    "        "
   ]
  },
  {
   "cell_type": "code",
   "execution_count": 16,
   "id": "edf091ca",
   "metadata": {},
   "outputs": [
    {
     "name": "stdout",
     "output_type": "stream",
     "text": [
      "Two of Hearts\n"
     ]
    }
   ],
   "source": [
    "print(two_hearts)"
   ]
  },
  {
   "cell_type": "code",
   "execution_count": 17,
   "id": "9e7352f1",
   "metadata": {},
   "outputs": [
    {
     "data": {
      "text/plain": [
       "'Hearts'"
      ]
     },
     "execution_count": 17,
     "metadata": {},
     "output_type": "execute_result"
    }
   ],
   "source": [
    "two_hearts.suit"
   ]
  },
  {
   "cell_type": "code",
   "execution_count": 18,
   "id": "7ab634dc",
   "metadata": {},
   "outputs": [
    {
     "data": {
      "text/plain": [
       "'Two'"
      ]
     },
     "execution_count": 18,
     "metadata": {},
     "output_type": "execute_result"
    }
   ],
   "source": [
    "two_hearts.rank"
   ]
  },
  {
   "cell_type": "code",
   "execution_count": 19,
   "id": "97d8932d",
   "metadata": {},
   "outputs": [
    {
     "data": {
      "text/plain": [
       "2"
      ]
     },
     "execution_count": 19,
     "metadata": {},
     "output_type": "execute_result"
    }
   ],
   "source": [
    "values[two_hearts.rank]"
   ]
  },
  {
   "cell_type": "code",
   "execution_count": 20,
   "id": "fa5e243b",
   "metadata": {},
   "outputs": [],
   "source": [
    "three_of_clubs = Card(\"Clubs\", \"Three\")"
   ]
  },
  {
   "cell_type": "code",
   "execution_count": 21,
   "id": "5044c01d",
   "metadata": {},
   "outputs": [
    {
     "data": {
      "text/plain": [
       "'Clubs'"
      ]
     },
     "execution_count": 21,
     "metadata": {},
     "output_type": "execute_result"
    }
   ],
   "source": [
    "three_of_clubs.suit"
   ]
  },
  {
   "cell_type": "code",
   "execution_count": 22,
   "id": "b0416854",
   "metadata": {},
   "outputs": [
    {
     "data": {
      "text/plain": [
       "'Three'"
      ]
     },
     "execution_count": 22,
     "metadata": {},
     "output_type": "execute_result"
    }
   ],
   "source": [
    "three_of_clubs.rank"
   ]
  },
  {
   "cell_type": "code",
   "execution_count": 23,
   "id": "b8e97827",
   "metadata": {},
   "outputs": [
    {
     "data": {
      "text/plain": [
       "3"
      ]
     },
     "execution_count": 23,
     "metadata": {},
     "output_type": "execute_result"
    }
   ],
   "source": [
    "three_of_clubs.value"
   ]
  },
  {
   "cell_type": "code",
   "execution_count": 24,
   "id": "1fcb2ff0",
   "metadata": {},
   "outputs": [
    {
     "data": {
      "text/plain": [
       "True"
      ]
     },
     "execution_count": 24,
     "metadata": {},
     "output_type": "execute_result"
    }
   ],
   "source": [
    " two_hearts.value < three_of_clubs.value"
   ]
  },
  {
   "cell_type": "code",
   "execution_count": 48,
   "id": "b51d9f38",
   "metadata": {},
   "outputs": [],
   "source": [
    "new_Deck = Deck()"
   ]
  },
  {
   "cell_type": "code",
   "execution_count": 39,
   "id": "c944652c",
   "metadata": {},
   "outputs": [],
   "source": [
    "first_card = new_Deck.all_cards[8]"
   ]
  },
  {
   "cell_type": "code",
   "execution_count": 40,
   "id": "afa95e87",
   "metadata": {},
   "outputs": [
    {
     "name": "stdout",
     "output_type": "stream",
     "text": [
      "Ten of Hearts\n"
     ]
    }
   ],
   "source": [
    "print(first_card)"
   ]
  },
  {
   "cell_type": "code",
   "execution_count": 46,
   "id": "c507c073",
   "metadata": {},
   "outputs": [
    {
     "name": "stdout",
     "output_type": "stream",
     "text": [
      "King of Diamonds\n",
      "Eight of Hearts\n",
      "King of Clubs\n",
      "Three of Clubs\n",
      "Two of Hearts\n",
      "Six of Hearts\n",
      "Two of Diamonds\n",
      "Seven of Spades\n",
      "Queen of Diamonds\n",
      "Five of Spades\n",
      "Eight of Diamonds\n",
      "Ten of Spades\n",
      "Four of Spades\n",
      "Three of Diamonds\n",
      "Seven of Hearts\n",
      "Ten of Clubs\n",
      "Ten of Diamonds\n",
      "Ten of Hearts\n",
      "Ace of Hearts\n",
      "Queen of Spades\n",
      "Queen of Clubs\n",
      "Jack of Clubs\n",
      "Jack of Spades\n",
      "Four of Clubs\n",
      "Seven of Clubs\n",
      "Jack of Diamonds\n",
      "Eight of Spades\n",
      "King of Hearts\n",
      "Eight of Clubs\n",
      "Seven of Diamonds\n",
      "Five of Clubs\n",
      "Three of Hearts\n",
      "Five of Diamonds\n",
      "Two of Spades\n",
      "King of Spades\n",
      "Three of Spades\n",
      "Four of Diamonds\n",
      "Nine of Spades\n",
      "Ace of Clubs\n",
      "Five of Hearts\n",
      "Nine of Hearts\n",
      "Nine of Diamonds\n",
      "Queen of Hearts\n",
      "Jack of Hearts\n",
      "Ace of Diamonds\n",
      "Two of Clubs\n",
      "Six of Diamonds\n",
      "Six of Spades\n",
      "Ace of Spades\n",
      "Four of Hearts\n",
      "Six of Clubs\n",
      "Nine of Clubs\n"
     ]
    }
   ],
   "source": [
    "for cardObject in new_Deck.all_cards:\n",
    "    print(cardObject)"
   ]
  },
  {
   "cell_type": "code",
   "execution_count": 52,
   "id": "b06e9868",
   "metadata": {},
   "outputs": [],
   "source": [
    "new_Deck.shuffle()"
   ]
  },
  {
   "cell_type": "code",
   "execution_count": 91,
   "id": "84a75ec5",
   "metadata": {},
   "outputs": [],
   "source": [
    "mycard = new_Deck.dealOne()"
   ]
  },
  {
   "cell_type": "code",
   "execution_count": 92,
   "id": "b47ba063",
   "metadata": {},
   "outputs": [
    {
     "name": "stdout",
     "output_type": "stream",
     "text": [
      "Nine of Diamonds\n"
     ]
    }
   ],
   "source": [
    "print(mycard)"
   ]
  },
  {
   "cell_type": "code",
   "execution_count": 93,
   "id": "d201b285",
   "metadata": {
    "scrolled": true
   },
   "outputs": [
    {
     "data": {
      "text/plain": [
       "47"
      ]
     },
     "execution_count": 93,
     "metadata": {},
     "output_type": "execute_result"
    }
   ],
   "source": [
    "len(new_Deck.all_cards)"
   ]
  },
  {
   "cell_type": "code",
   "execution_count": 94,
   "id": "e78a15e9",
   "metadata": {},
   "outputs": [
    {
     "name": "stdout",
     "output_type": "stream",
     "text": [
      "Player Brian has 0 cards.\n"
     ]
    }
   ],
   "source": [
    "print(new_player)"
   ]
  },
  {
   "cell_type": "code",
   "execution_count": 95,
   "id": "15450333",
   "metadata": {},
   "outputs": [],
   "source": [
    "new_player.add_cards(mycard)"
   ]
  },
  {
   "cell_type": "code",
   "execution_count": 96,
   "id": "36f69b31",
   "metadata": {},
   "outputs": [
    {
     "data": {
      "text/plain": [
       "[]"
      ]
     },
     "execution_count": 96,
     "metadata": {},
     "output_type": "execute_result"
    }
   ],
   "source": [
    "new_player.all_cards"
   ]
  },
  {
   "cell_type": "code",
   "execution_count": 98,
   "id": "f05d2a26",
   "metadata": {},
   "outputs": [
    {
     "name": "stdout",
     "output_type": "stream",
     "text": [
      "Nine of Diamonds\n"
     ]
    }
   ],
   "source": [
    "print(mycard)"
   ]
  },
  {
   "cell_type": "code",
   "execution_count": 99,
   "id": "b4cab9d8",
   "metadata": {},
   "outputs": [],
   "source": [
    "new_player.add_cards(mycard)"
   ]
  },
  {
   "cell_type": "code",
   "execution_count": 100,
   "id": "422c2f6c",
   "metadata": {},
   "outputs": [
    {
     "name": "stdout",
     "output_type": "stream",
     "text": [
      "Player Brian has 0 cards.\n"
     ]
    }
   ],
   "source": [
    "print(new_player)"
   ]
  },
  {
   "cell_type": "code",
   "execution_count": 102,
   "id": "59cd0956",
   "metadata": {},
   "outputs": [],
   "source": [
    "new_player1 = Player(\"Tyson\")"
   ]
  },
  {
   "cell_type": "code",
   "execution_count": 103,
   "id": "7274dcf6",
   "metadata": {},
   "outputs": [
    {
     "data": {
      "text/plain": [
       "<__main__.Card at 0x10f0e44d0>"
      ]
     },
     "execution_count": 103,
     "metadata": {},
     "output_type": "execute_result"
    }
   ],
   "source": [
    "mycard"
   ]
  },
  {
   "cell_type": "code",
   "execution_count": 104,
   "id": "01947bf9",
   "metadata": {},
   "outputs": [
    {
     "name": "stdout",
     "output_type": "stream",
     "text": [
      "Nine of Diamonds\n"
     ]
    }
   ],
   "source": [
    "print(mycard)"
   ]
  },
  {
   "cell_type": "code",
   "execution_count": 105,
   "id": "aa138226",
   "metadata": {},
   "outputs": [
    {
     "name": "stdout",
     "output_type": "stream",
     "text": [
      "Nine of Diamonds\n"
     ]
    }
   ],
   "source": [
    "print(mycard)"
   ]
  },
  {
   "cell_type": "code",
   "execution_count": 106,
   "id": "b0499354",
   "metadata": {},
   "outputs": [],
   "source": [
    "new_player1.add_cards(mycard)"
   ]
  },
  {
   "cell_type": "code",
   "execution_count": 107,
   "id": "8fcf65ad",
   "metadata": {},
   "outputs": [
    {
     "data": {
      "text/plain": [
       "<__main__.Player at 0x10f680450>"
      ]
     },
     "execution_count": 107,
     "metadata": {},
     "output_type": "execute_result"
    }
   ],
   "source": [
    "new_player1"
   ]
  },
  {
   "cell_type": "code",
   "execution_count": 108,
   "id": "db649a55",
   "metadata": {},
   "outputs": [
    {
     "name": "stdout",
     "output_type": "stream",
     "text": [
      "Player Tyson has 1 cards.\n"
     ]
    }
   ],
   "source": [
    "print(new_player1)"
   ]
  },
  {
   "cell_type": "code",
   "execution_count": 109,
   "id": "95b12fe0",
   "metadata": {},
   "outputs": [
    {
     "name": "stdout",
     "output_type": "stream",
     "text": [
      "Nine of Diamonds\n"
     ]
    }
   ],
   "source": [
    "print(new_player1.all_cards[0])"
   ]
  },
  {
   "cell_type": "code",
   "execution_count": 110,
   "id": "2a5ddf27",
   "metadata": {},
   "outputs": [],
   "source": [
    "new_player1.add_cards([mycard,mycard,mycard])"
   ]
  },
  {
   "cell_type": "code",
   "execution_count": 111,
   "id": "868e1b3e",
   "metadata": {},
   "outputs": [
    {
     "name": "stdout",
     "output_type": "stream",
     "text": [
      "Player Tyson has 4 cards.\n"
     ]
    }
   ],
   "source": [
    "print(new_player1)"
   ]
  },
  {
   "cell_type": "code",
   "execution_count": 112,
   "id": "cb791d63",
   "metadata": {},
   "outputs": [
    {
     "data": {
      "text/plain": [
       "<__main__.Card at 0x10f0e44d0>"
      ]
     },
     "execution_count": 112,
     "metadata": {},
     "output_type": "execute_result"
    }
   ],
   "source": [
    "new_player1.remove_one()"
   ]
  },
  {
   "cell_type": "code",
   "execution_count": 113,
   "id": "793d0deb",
   "metadata": {},
   "outputs": [
    {
     "name": "stdout",
     "output_type": "stream",
     "text": [
      "Player Tyson has 3 cards.\n"
     ]
    }
   ],
   "source": [
    "print(new_player1)"
   ]
  },
  {
   "cell_type": "code",
   "execution_count": null,
   "id": "31052895",
   "metadata": {},
   "outputs": [],
   "source": []
  }
 ],
 "metadata": {
  "kernelspec": {
   "display_name": "Python 3 (ipykernel)",
   "language": "python",
   "name": "python3"
  },
  "language_info": {
   "codemirror_mode": {
    "name": "ipython",
    "version": 3
   },
   "file_extension": ".py",
   "mimetype": "text/x-python",
   "name": "python",
   "nbconvert_exporter": "python",
   "pygments_lexer": "ipython3",
   "version": "3.11.4"
  }
 },
 "nbformat": 4,
 "nbformat_minor": 5
}
