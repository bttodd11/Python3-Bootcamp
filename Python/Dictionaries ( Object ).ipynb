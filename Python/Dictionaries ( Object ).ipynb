{
 "cells": [
  {
   "cell_type": "markdown",
   "id": "94de1982",
   "metadata": {},
   "source": [
    "Dictionaries"
   ]
  },
  {
   "cell_type": "markdown",
   "id": "e871b35d",
   "metadata": {},
   "source": [
    "- unordered mappings for storing objects, dictionaries use a (key, value ) for pairing instead"
   ]
  },
  {
   "cell_type": "markdown",
   "id": "bc7153af",
   "metadata": {},
   "source": [
    "- identical to objects\n",
    "\n"
   ]
  },
  {
   "cell_type": "code",
   "execution_count": null,
   "id": "d270db2c",
   "metadata": {},
   "outputs": [],
   "source": []
  },
  {
   "cell_type": "code",
   "execution_count": 2,
   "id": "115d2661",
   "metadata": {},
   "outputs": [],
   "source": [
    "myDict = {'Key': \"value\", \"Key2\" : \"value2\"}"
   ]
  },
  {
   "cell_type": "code",
   "execution_count": 4,
   "id": "4378a3dc",
   "metadata": {},
   "outputs": [
    {
     "data": {
      "text/plain": [
       "'value'"
      ]
     },
     "execution_count": 4,
     "metadata": {},
     "output_type": "execute_result"
    }
   ],
   "source": [
    "myDict[\"Key\"]"
   ]
  },
  {
   "cell_type": "code",
   "execution_count": 5,
   "id": "678d4f4b",
   "metadata": {},
   "outputs": [],
   "source": [
    "pricesLookup = {'apple': 2.00, 'orange': 5, 'milk': 3}"
   ]
  },
  {
   "cell_type": "code",
   "execution_count": 7,
   "id": "72f823e6",
   "metadata": {},
   "outputs": [
    {
     "data": {
      "text/plain": [
       "2.0"
      ]
     },
     "execution_count": 7,
     "metadata": {},
     "output_type": "execute_result"
    }
   ],
   "source": [
    "pricesLookup['apple']"
   ]
  },
  {
   "cell_type": "code",
   "execution_count": 8,
   "id": "4a46279a",
   "metadata": {},
   "outputs": [],
   "source": [
    "d = {'k1': 123, 'k2' : 321, 'k3': {'insideKey': 3}}"
   ]
  },
  {
   "cell_type": "code",
   "execution_count": 9,
   "id": "7c579416",
   "metadata": {},
   "outputs": [
    {
     "data": {
      "text/plain": [
       "123"
      ]
     },
     "execution_count": 9,
     "metadata": {},
     "output_type": "execute_result"
    }
   ],
   "source": [
    "d['k1']"
   ]
  },
  {
   "cell_type": "code",
   "execution_count": 12,
   "id": "778579ea",
   "metadata": {},
   "outputs": [
    {
     "data": {
      "text/plain": [
       "3"
      ]
     },
     "execution_count": 12,
     "metadata": {},
     "output_type": "execute_result"
    }
   ],
   "source": [
    "d['k3']['insideKey']"
   ]
  },
  {
   "cell_type": "code",
   "execution_count": 15,
   "id": "a9e74a8a",
   "metadata": {},
   "outputs": [],
   "source": [
    "d = {'key': [2,3,4, 'e']}"
   ]
  },
  {
   "cell_type": "code",
   "execution_count": 16,
   "id": "215d1fe9",
   "metadata": {},
   "outputs": [
    {
     "data": {
      "text/plain": [
       "'E'"
      ]
     },
     "execution_count": 16,
     "metadata": {},
     "output_type": "execute_result"
    }
   ],
   "source": [
    "d['key'][3].upper()"
   ]
  },
  {
   "cell_type": "code",
   "execution_count": 18,
   "id": "ba580a08",
   "metadata": {},
   "outputs": [],
   "source": [
    "d = {'k1': 100, 'k2': 200, 'k3':300}"
   ]
  },
  {
   "cell_type": "code",
   "execution_count": 19,
   "id": "cf49fc6d",
   "metadata": {},
   "outputs": [],
   "source": [
    "d['k4'] = 400"
   ]
  },
  {
   "cell_type": "code",
   "execution_count": 20,
   "id": "cc90ff0f",
   "metadata": {},
   "outputs": [
    {
     "data": {
      "text/plain": [
       "{'k1': 100, 'k2': 200, 'k3': 300, 'k4': 400}"
      ]
     },
     "execution_count": 20,
     "metadata": {},
     "output_type": "execute_result"
    }
   ],
   "source": [
    "d"
   ]
  },
  {
   "cell_type": "code",
   "execution_count": 21,
   "id": "82b099a4",
   "metadata": {},
   "outputs": [],
   "source": [
    "d['k1'] = 2000"
   ]
  },
  {
   "cell_type": "code",
   "execution_count": 22,
   "id": "ce85bac6",
   "metadata": {},
   "outputs": [
    {
     "data": {
      "text/plain": [
       "{'k1': 2000, 'k2': 200, 'k3': 300, 'k4': 400}"
      ]
     },
     "execution_count": 22,
     "metadata": {},
     "output_type": "execute_result"
    }
   ],
   "source": [
    "d"
   ]
  },
  {
   "cell_type": "code",
   "execution_count": 23,
   "id": "580d55ba",
   "metadata": {},
   "outputs": [
    {
     "data": {
      "text/plain": [
       "dict_keys(['k1', 'k2', 'k3', 'k4'])"
      ]
     },
     "execution_count": 23,
     "metadata": {},
     "output_type": "execute_result"
    }
   ],
   "source": [
    "d.keys()"
   ]
  },
  {
   "cell_type": "code",
   "execution_count": 25,
   "id": "7ef35253",
   "metadata": {},
   "outputs": [
    {
     "data": {
      "text/plain": [
       "dict_values([2000, 200, 300, 400])"
      ]
     },
     "execution_count": 25,
     "metadata": {},
     "output_type": "execute_result"
    }
   ],
   "source": [
    "d.values()"
   ]
  },
  {
   "cell_type": "code",
   "execution_count": 26,
   "id": "e7a539ad",
   "metadata": {},
   "outputs": [
    {
     "data": {
      "text/plain": [
       "dict_items([('k1', 2000), ('k2', 200), ('k3', 300), ('k4', 400)])"
      ]
     },
     "execution_count": 26,
     "metadata": {},
     "output_type": "execute_result"
    }
   ],
   "source": [
    "d.items()"
   ]
  },
  {
   "cell_type": "code",
   "execution_count": null,
   "id": "c9261ced",
   "metadata": {},
   "outputs": [],
   "source": []
  }
 ],
 "metadata": {
  "kernelspec": {
   "display_name": "Python 3 (ipykernel)",
   "language": "python",
   "name": "python3"
  },
  "language_info": {
   "codemirror_mode": {
    "name": "ipython",
    "version": 3
   },
   "file_extension": ".py",
   "mimetype": "text/x-python",
   "name": "python",
   "nbconvert_exporter": "python",
   "pygments_lexer": "ipython3",
   "version": "3.11.4"
  }
 },
 "nbformat": 4,
 "nbformat_minor": 5
}
