{
 "cells": [
  {
   "cell_type": "code",
   "execution_count": 3,
   "id": "9ffbf7ed",
   "metadata": {},
   "outputs": [],
   "source": [
    "# Regex Pattern\n",
    "# D stands for Digit, this regex is 3 digits\n",
    "# r\"(\\d\\d\\d) \n",
    "# r\"(\\d{3}) <- Shorthand for the same expression"
   ]
  },
  {
   "cell_type": "code",
   "execution_count": 4,
   "id": "43cb019c",
   "metadata": {},
   "outputs": [],
   "source": [
    "text = \"The agent phone number 512-492-2893. Call soon!\""
   ]
  },
  {
   "cell_type": "code",
   "execution_count": 5,
   "id": "ec5af537",
   "metadata": {},
   "outputs": [
    {
     "data": {
      "text/plain": [
       "True"
      ]
     },
     "execution_count": 5,
     "metadata": {},
     "output_type": "execute_result"
    }
   ],
   "source": [
    "'phone' in text"
   ]
  },
  {
   "cell_type": "code",
   "execution_count": 25,
   "id": "c08f50f0",
   "metadata": {},
   "outputs": [],
   "source": [
    "import re"
   ]
  },
  {
   "cell_type": "code",
   "execution_count": 26,
   "id": "919bfdfb",
   "metadata": {},
   "outputs": [],
   "source": [
    "pattern = \"phone\""
   ]
  },
  {
   "cell_type": "code",
   "execution_count": 13,
   "id": "4c61eb81",
   "metadata": {},
   "outputs": [
    {
     "data": {
      "text/plain": [
       "<re.Match object; span=(10, 15), match='phone'>"
      ]
     },
     "execution_count": 13,
     "metadata": {},
     "output_type": "execute_result"
    }
   ],
   "source": [
    "re.search(pattern, text)"
   ]
  },
  {
   "cell_type": "code",
   "execution_count": 9,
   "id": "71b50cbc",
   "metadata": {},
   "outputs": [],
   "source": [
    "pattern = \"Not In Text\""
   ]
  },
  {
   "cell_type": "code",
   "execution_count": 14,
   "id": "f8304c3e",
   "metadata": {},
   "outputs": [],
   "source": [
    "match = re.search(pattern, text)"
   ]
  },
  {
   "cell_type": "code",
   "execution_count": 11,
   "id": "2c67bd5c",
   "metadata": {},
   "outputs": [],
   "source": [
    "# If no pattern is found nothing will return"
   ]
  },
  {
   "cell_type": "code",
   "execution_count": 15,
   "id": "15208a50",
   "metadata": {},
   "outputs": [
    {
     "data": {
      "text/plain": [
       "(10, 15)"
      ]
     },
     "execution_count": 15,
     "metadata": {},
     "output_type": "execute_result"
    }
   ],
   "source": [
    "match.span()"
   ]
  },
  {
   "cell_type": "code",
   "execution_count": 16,
   "id": "62c0b633",
   "metadata": {},
   "outputs": [
    {
     "data": {
      "text/plain": [
       "10"
      ]
     },
     "execution_count": 16,
     "metadata": {},
     "output_type": "execute_result"
    }
   ],
   "source": [
    "match.start()"
   ]
  },
  {
   "cell_type": "code",
   "execution_count": 17,
   "id": "9b9aec5e",
   "metadata": {},
   "outputs": [
    {
     "data": {
      "text/plain": [
       "15"
      ]
     },
     "execution_count": 17,
     "metadata": {},
     "output_type": "execute_result"
    }
   ],
   "source": [
    "match.end()"
   ]
  },
  {
   "cell_type": "code",
   "execution_count": 21,
   "id": "c7b2d1e7",
   "metadata": {},
   "outputs": [],
   "source": [
    "text = \"My phone wants, my phone twice\""
   ]
  },
  {
   "cell_type": "code",
   "execution_count": 27,
   "id": "e5a61ce6",
   "metadata": {},
   "outputs": [],
   "source": [
    "match = re.search('phone', text)"
   ]
  },
  {
   "cell_type": "code",
   "execution_count": 28,
   "id": "111eb42c",
   "metadata": {},
   "outputs": [
    {
     "data": {
      "text/plain": [
       "<re.Match object; span=(3, 8), match='phone'>"
      ]
     },
     "execution_count": 28,
     "metadata": {},
     "output_type": "execute_result"
    }
   ],
   "source": [
    "match"
   ]
  },
  {
   "cell_type": "code",
   "execution_count": 29,
   "id": "8d42ff68",
   "metadata": {},
   "outputs": [],
   "source": [
    "matches = re.findall('phone', text)"
   ]
  },
  {
   "cell_type": "code",
   "execution_count": 30,
   "id": "ef31ce66",
   "metadata": {},
   "outputs": [
    {
     "data": {
      "text/plain": [
       "['phone', 'phone']"
      ]
     },
     "execution_count": 30,
     "metadata": {},
     "output_type": "execute_result"
    }
   ],
   "source": [
    "matches"
   ]
  },
  {
   "cell_type": "code",
   "execution_count": 33,
   "id": "fea2f0bc",
   "metadata": {},
   "outputs": [
    {
     "name": "stdout",
     "output_type": "stream",
     "text": [
      "phone\n",
      "phone\n"
     ]
    }
   ],
   "source": [
    "for match in re.finditer('phone', text):\n",
    "    print(match.group())"
   ]
  },
  {
   "cell_type": "code",
   "execution_count": 73,
   "id": "f0bbc086",
   "metadata": {},
   "outputs": [],
   "source": [
    "myphone = \"My phone is 834-342-1143\""
   ]
  },
  {
   "cell_type": "code",
   "execution_count": 48,
   "id": "d0ee8fd0",
   "metadata": {},
   "outputs": [],
   "source": [
    "phone = re.search(r\"\\d{3}-\\d{3}-\\d{4}\", myphone)"
   ]
  },
  {
   "cell_type": "code",
   "execution_count": 49,
   "id": "4ccdabbb",
   "metadata": {},
   "outputs": [
    {
     "data": {
      "text/plain": [
       "<re.Match object; span=(12, 24), match='834-342-1143'>"
      ]
     },
     "execution_count": 49,
     "metadata": {},
     "output_type": "execute_result"
    }
   ],
   "source": [
    "phone"
   ]
  },
  {
   "cell_type": "code",
   "execution_count": 50,
   "id": "a80370e6",
   "metadata": {},
   "outputs": [
    {
     "data": {
      "text/plain": [
       "'834-342-1143'"
      ]
     },
     "execution_count": 50,
     "metadata": {},
     "output_type": "execute_result"
    }
   ],
   "source": [
    "phone.group()"
   ]
  },
  {
   "cell_type": "code",
   "execution_count": 77,
   "id": "14fc2133",
   "metadata": {},
   "outputs": [],
   "source": [
    "phone_pattern = re.compile(r'(\\d{3})-(\\d{3})-(\\d{4})')"
   ]
  },
  {
   "cell_type": "code",
   "execution_count": 78,
   "id": "6627d68f",
   "metadata": {},
   "outputs": [],
   "source": [
    "results = re.search(phone_pattern, myphone)"
   ]
  },
  {
   "cell_type": "code",
   "execution_count": 79,
   "id": "180687b3",
   "metadata": {},
   "outputs": [
    {
     "data": {
      "text/plain": [
       "'834-342-1143'"
      ]
     },
     "execution_count": 79,
     "metadata": {},
     "output_type": "execute_result"
    }
   ],
   "source": [
    "results.group()"
   ]
  },
  {
   "cell_type": "code",
   "execution_count": 80,
   "id": "19070186",
   "metadata": {},
   "outputs": [
    {
     "data": {
      "text/plain": [
       "'834'"
      ]
     },
     "execution_count": 80,
     "metadata": {},
     "output_type": "execute_result"
    }
   ],
   "source": [
    "results.group(1)"
   ]
  },
  {
   "cell_type": "code",
   "execution_count": 81,
   "id": "06409afb",
   "metadata": {},
   "outputs": [
    {
     "data": {
      "text/plain": [
       "'1143'"
      ]
     },
     "execution_count": 81,
     "metadata": {},
     "output_type": "execute_result"
    }
   ],
   "source": [
    "results.group(3)"
   ]
  },
  {
   "cell_type": "code",
   "execution_count": 82,
   "id": "8908a006",
   "metadata": {},
   "outputs": [
    {
     "data": {
      "text/plain": [
       "'342'"
      ]
     },
     "execution_count": 82,
     "metadata": {},
     "output_type": "execute_result"
    }
   ],
   "source": [
    "results.group(2)"
   ]
  },
  {
   "cell_type": "code",
   "execution_count": null,
   "id": "543c3f4a",
   "metadata": {},
   "outputs": [],
   "source": []
  }
 ],
 "metadata": {
  "kernelspec": {
   "display_name": "Python 3 (ipykernel)",
   "language": "python",
   "name": "python3"
  },
  "language_info": {
   "codemirror_mode": {
    "name": "ipython",
    "version": 3
   },
   "file_extension": ".py",
   "mimetype": "text/x-python",
   "name": "python",
   "nbconvert_exporter": "python",
   "pygments_lexer": "ipython3",
   "version": "3.11.4"
  }
 },
 "nbformat": 4,
 "nbformat_minor": 5
}
