{
 "cells": [
  {
   "cell_type": "code",
   "execution_count": 4,
   "id": "64b3e5be",
   "metadata": {},
   "outputs": [],
   "source": [
    "# Counts the unique numbers inside of a list\n",
    "from collections import Counter"
   ]
  },
  {
   "cell_type": "code",
   "execution_count": 5,
   "id": "7ae63f25",
   "metadata": {},
   "outputs": [],
   "source": [
    "mylist = [1,2,3,2,3,123,234,23,23,3]"
   ]
  },
  {
   "cell_type": "code",
   "execution_count": 6,
   "id": "88f14cb3",
   "metadata": {},
   "outputs": [
    {
     "data": {
      "text/plain": [
       "Counter({1: 1, 2: 2, 3: 3, 123: 1, 234: 1, 23: 2})"
      ]
     },
     "execution_count": 6,
     "metadata": {},
     "output_type": "execute_result"
    }
   ],
   "source": [
    "Counter(mylist)"
   ]
  },
  {
   "cell_type": "code",
   "execution_count": 7,
   "id": "4a494d06",
   "metadata": {},
   "outputs": [
    {
     "data": {
      "text/plain": [
       "Counter({'f': 9, 'd': 5, 's': 5, 'w': 1})"
      ]
     },
     "execution_count": 7,
     "metadata": {},
     "output_type": "execute_result"
    }
   ],
   "source": [
    "Counter(\"fdsfdwsfsdfdsffffsdf\")"
   ]
  },
  {
   "cell_type": "code",
   "execution_count": 8,
   "id": "e87634e6",
   "metadata": {},
   "outputs": [],
   "source": [
    "letters = \"aaaabbbbxxxcccccccddddddd\""
   ]
  },
  {
   "cell_type": "code",
   "execution_count": 9,
   "id": "6e0cea51",
   "metadata": {},
   "outputs": [],
   "source": [
    "c = Counter(letters)"
   ]
  },
  {
   "cell_type": "code",
   "execution_count": 10,
   "id": "44770640",
   "metadata": {},
   "outputs": [
    {
     "data": {
      "text/plain": [
       "Counter({'a': 4, 'b': 4, 'x': 3, 'c': 7, 'd': 7})"
      ]
     },
     "execution_count": 10,
     "metadata": {},
     "output_type": "execute_result"
    }
   ],
   "source": [
    "c"
   ]
  },
  {
   "cell_type": "code",
   "execution_count": 12,
   "id": "182cb575",
   "metadata": {},
   "outputs": [
    {
     "data": {
      "text/plain": [
       "[('c', 7), ('d', 7), ('a', 4), ('b', 4), ('x', 3)]"
      ]
     },
     "execution_count": 12,
     "metadata": {},
     "output_type": "execute_result"
    }
   ],
   "source": [
    "# You can provide a number in the params on how many you want to return\n",
    "c.most_common()"
   ]
  },
  {
   "cell_type": "code",
   "execution_count": 13,
   "id": "8e858d85",
   "metadata": {},
   "outputs": [],
   "source": [
    "from collections import defaultdict"
   ]
  },
  {
   "cell_type": "code",
   "execution_count": 14,
   "id": "2db15255",
   "metadata": {},
   "outputs": [],
   "source": [
    "d = {\"a\": 10}"
   ]
  },
  {
   "cell_type": "code",
   "execution_count": 15,
   "id": "372b013d",
   "metadata": {},
   "outputs": [
    {
     "data": {
      "text/plain": [
       "{'a': 10}"
      ]
     },
     "execution_count": 15,
     "metadata": {},
     "output_type": "execute_result"
    }
   ],
   "source": [
    "d"
   ]
  },
  {
   "cell_type": "code",
   "execution_count": 16,
   "id": "2555d5f6",
   "metadata": {},
   "outputs": [
    {
     "data": {
      "text/plain": [
       "10"
      ]
     },
     "execution_count": 16,
     "metadata": {},
     "output_type": "execute_result"
    }
   ],
   "source": [
    "d[\"a\"]"
   ]
  },
  {
   "cell_type": "code",
   "execution_count": 17,
   "id": "fd3e64dd",
   "metadata": {},
   "outputs": [
    {
     "ename": "KeyError",
     "evalue": "'We'",
     "output_type": "error",
     "traceback": [
      "\u001b[0;31m---------------------------------------------------------------------------\u001b[0m",
      "\u001b[0;31mKeyError\u001b[0m                                  Traceback (most recent call last)",
      "Cell \u001b[0;32mIn[17], line 1\u001b[0m\n\u001b[0;32m----> 1\u001b[0m d[\u001b[38;5;124m'\u001b[39m\u001b[38;5;124mWe\u001b[39m\u001b[38;5;124m'\u001b[39m]\n",
      "\u001b[0;31mKeyError\u001b[0m: 'We'"
     ]
    }
   ],
   "source": [
    "d['We']"
   ]
  },
  {
   "cell_type": "code",
   "execution_count": 19,
   "id": "f41fc8ef",
   "metadata": {},
   "outputs": [],
   "source": [
    "d = defaultdict(lambda:0)"
   ]
  },
  {
   "cell_type": "code",
   "execution_count": 20,
   "id": "056bac72",
   "metadata": {},
   "outputs": [],
   "source": [
    "d['correct'] = 888"
   ]
  },
  {
   "cell_type": "code",
   "execution_count": 21,
   "id": "3e077953",
   "metadata": {},
   "outputs": [
    {
     "data": {
      "text/plain": [
       "888"
      ]
     },
     "execution_count": 21,
     "metadata": {},
     "output_type": "execute_result"
    }
   ],
   "source": [
    "d['correct']"
   ]
  },
  {
   "cell_type": "code",
   "execution_count": 22,
   "id": "e1050748",
   "metadata": {},
   "outputs": [
    {
     "data": {
      "text/plain": [
       "0"
      ]
     },
     "execution_count": 22,
     "metadata": {},
     "output_type": "execute_result"
    }
   ],
   "source": [
    "d[\"WEEE\"]"
   ]
  },
  {
   "cell_type": "code",
   "execution_count": 23,
   "id": "0f945994",
   "metadata": {},
   "outputs": [],
   "source": [
    "mytuple = (10,20,30)"
   ]
  },
  {
   "cell_type": "code",
   "execution_count": 24,
   "id": "7a504eec",
   "metadata": {},
   "outputs": [
    {
     "data": {
      "text/plain": [
       "10"
      ]
     },
     "execution_count": 24,
     "metadata": {},
     "output_type": "execute_result"
    }
   ],
   "source": [
    "mytuple[0]"
   ]
  },
  {
   "cell_type": "code",
   "execution_count": 25,
   "id": "46d52984",
   "metadata": {},
   "outputs": [],
   "source": [
    "from collections import namedtuple"
   ]
  },
  {
   "cell_type": "code",
   "execution_count": 26,
   "id": "f863ed69",
   "metadata": {},
   "outputs": [],
   "source": [
    "Dog = namedtuple(\"Dog\",[\"age\",\"breed\",\"name\"])"
   ]
  },
  {
   "cell_type": "code",
   "execution_count": 29,
   "id": "1ed04b18",
   "metadata": {},
   "outputs": [],
   "source": [
    "Sammy = Dog(age=5,breed=\"Husky\",name=\"Brian\")"
   ]
  },
  {
   "cell_type": "code",
   "execution_count": 31,
   "id": "d4a9a5c8",
   "metadata": {},
   "outputs": [
    {
     "data": {
      "text/plain": [
       "5"
      ]
     },
     "execution_count": 31,
     "metadata": {},
     "output_type": "execute_result"
    }
   ],
   "source": [
    "Sammy[0]"
   ]
  },
  {
   "cell_type": "code",
   "execution_count": null,
   "id": "bb5eb0c0",
   "metadata": {},
   "outputs": [],
   "source": []
  }
 ],
 "metadata": {
  "kernelspec": {
   "display_name": "Python 3 (ipykernel)",
   "language": "python",
   "name": "python3"
  },
  "language_info": {
   "codemirror_mode": {
    "name": "ipython",
    "version": 3
   },
   "file_extension": ".py",
   "mimetype": "text/x-python",
   "name": "python",
   "nbconvert_exporter": "python",
   "pygments_lexer": "ipython3",
   "version": "3.11.4"
  }
 },
 "nbformat": 4,
 "nbformat_minor": 5
}
