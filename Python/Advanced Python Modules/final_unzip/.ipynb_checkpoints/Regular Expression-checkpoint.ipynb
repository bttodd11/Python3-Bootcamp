{
 "cells": [
  {
   "cell_type": "code",
   "execution_count": 3,
   "id": "44b22b1a",
   "metadata": {},
   "outputs": [],
   "source": [
    "# Regex Pattern\n",
    "# D stands for Digit, this regex is 3 digits\n",
    "# r\"(\\d\\d\\d) \n",
    "# r\"(\\d{3}) <- Shorthand for the same expression"
   ]
  },
  {
   "cell_type": "code",
   "execution_count": 4,
   "id": "516341c4",
   "metadata": {},
   "outputs": [],
   "source": [
    "text = \"The agent phone number 512-492-2893. Call soon!\""
   ]
  },
  {
   "cell_type": "code",
   "execution_count": 5,
   "id": "1ea021f9",
   "metadata": {},
   "outputs": [
    {
     "data": {
      "text/plain": [
       "True"
      ]
     },
     "execution_count": 5,
     "metadata": {},
     "output_type": "execute_result"
    }
   ],
   "source": [
    "'phone' in text"
   ]
  },
  {
   "cell_type": "code",
   "execution_count": 25,
   "id": "d63bca7e",
   "metadata": {},
   "outputs": [],
   "source": [
    "import re"
   ]
  },
  {
   "cell_type": "code",
   "execution_count": 26,
   "id": "5c1e4419",
   "metadata": {},
   "outputs": [],
   "source": [
    "pattern = \"phone\""
   ]
  },
  {
   "cell_type": "code",
   "execution_count": 13,
   "id": "a5f6bb58",
   "metadata": {},
   "outputs": [
    {
     "data": {
      "text/plain": [
       "<re.Match object; span=(10, 15), match='phone'>"
      ]
     },
     "execution_count": 13,
     "metadata": {},
     "output_type": "execute_result"
    }
   ],
   "source": [
    "re.search(pattern, text)"
   ]
  },
  {
   "cell_type": "code",
   "execution_count": 9,
   "id": "3146c51f",
   "metadata": {},
   "outputs": [],
   "source": [
    "pattern = \"Not In Text\""
   ]
  },
  {
   "cell_type": "code",
   "execution_count": 14,
   "id": "6c0772d5",
   "metadata": {},
   "outputs": [],
   "source": [
    "match = re.search(pattern, text)"
   ]
  },
  {
   "cell_type": "code",
   "execution_count": 11,
   "id": "ff0ad8bf",
   "metadata": {},
   "outputs": [],
   "source": [
    "# If no pattern is found nothing will return"
   ]
  },
  {
   "cell_type": "code",
   "execution_count": 15,
   "id": "bfd9bb73",
   "metadata": {},
   "outputs": [
    {
     "data": {
      "text/plain": [
       "(10, 15)"
      ]
     },
     "execution_count": 15,
     "metadata": {},
     "output_type": "execute_result"
    }
   ],
   "source": [
    "match.span()"
   ]
  },
  {
   "cell_type": "code",
   "execution_count": 16,
   "id": "001074d2",
   "metadata": {},
   "outputs": [
    {
     "data": {
      "text/plain": [
       "10"
      ]
     },
     "execution_count": 16,
     "metadata": {},
     "output_type": "execute_result"
    }
   ],
   "source": [
    "match.start()"
   ]
  },
  {
   "cell_type": "code",
   "execution_count": 17,
   "id": "6c8c692e",
   "metadata": {},
   "outputs": [
    {
     "data": {
      "text/plain": [
       "15"
      ]
     },
     "execution_count": 17,
     "metadata": {},
     "output_type": "execute_result"
    }
   ],
   "source": [
    "match.end()"
   ]
  },
  {
   "cell_type": "code",
   "execution_count": 21,
   "id": "6b004651",
   "metadata": {},
   "outputs": [],
   "source": [
    "text = \"My phone wants, my phone twice\""
   ]
  },
  {
   "cell_type": "code",
   "execution_count": 27,
   "id": "17dce9af",
   "metadata": {},
   "outputs": [],
   "source": [
    "match = re.search('phone', text)"
   ]
  },
  {
   "cell_type": "code",
   "execution_count": 28,
   "id": "36da4c10",
   "metadata": {},
   "outputs": [
    {
     "data": {
      "text/plain": [
       "<re.Match object; span=(3, 8), match='phone'>"
      ]
     },
     "execution_count": 28,
     "metadata": {},
     "output_type": "execute_result"
    }
   ],
   "source": [
    "match"
   ]
  },
  {
   "cell_type": "code",
   "execution_count": 29,
   "id": "a9679b1b",
   "metadata": {},
   "outputs": [],
   "source": [
    "matches = re.findall('phone', text)"
   ]
  },
  {
   "cell_type": "code",
   "execution_count": 30,
   "id": "0e591ab8",
   "metadata": {},
   "outputs": [
    {
     "data": {
      "text/plain": [
       "['phone', 'phone']"
      ]
     },
     "execution_count": 30,
     "metadata": {},
     "output_type": "execute_result"
    }
   ],
   "source": [
    "matches"
   ]
  },
  {
   "cell_type": "code",
   "execution_count": 33,
   "id": "ef9eefc7",
   "metadata": {},
   "outputs": [
    {
     "name": "stdout",
     "output_type": "stream",
     "text": [
      "phone\n",
      "phone\n"
     ]
    }
   ],
   "source": [
    "for match in re.finditer('phone', text):\n",
    "    print(match.group())"
   ]
  },
  {
   "cell_type": "code",
   "execution_count": 41,
   "id": "7b8d7cc1",
   "metadata": {},
   "outputs": [],
   "source": [
    "myphone = \"My phone is 834-342-1143\""
   ]
  },
  {
   "cell_type": "code",
   "execution_count": 48,
   "id": "01923341",
   "metadata": {},
   "outputs": [],
   "source": [
    "phone = re.search(r\"\\d{3}-\\d{3}-\\d{4}\", myphone)"
   ]
  },
  {
   "cell_type": "code",
   "execution_count": 49,
   "id": "7739f855",
   "metadata": {},
   "outputs": [
    {
     "data": {
      "text/plain": [
       "<re.Match object; span=(12, 24), match='834-342-1143'>"
      ]
     },
     "execution_count": 49,
     "metadata": {},
     "output_type": "execute_result"
    }
   ],
   "source": [
    "phone"
   ]
  },
  {
   "cell_type": "code",
   "execution_count": 50,
   "id": "4ab6e55a",
   "metadata": {},
   "outputs": [
    {
     "data": {
      "text/plain": [
       "'834-342-1143'"
      ]
     },
     "execution_count": 50,
     "metadata": {},
     "output_type": "execute_result"
    }
   ],
   "source": [
    "phone.group()"
   ]
  },
  {
   "cell_type": "code",
   "execution_count": 54,
   "id": "83fc900c",
   "metadata": {},
   "outputs": [],
   "source": [
    "phone_pattern = re.compile(r'(\\d{3})-(\\d{3})-(\\d{3})')"
   ]
  },
  {
   "cell_type": "code",
   "execution_count": 57,
   "id": "1fd1d209",
   "metadata": {},
   "outputs": [],
   "source": [
    "results = re.search(phone_pattern, myphone)"
   ]
  },
  {
   "cell_type": "code",
   "execution_count": 58,
   "id": "a71a56de",
   "metadata": {},
   "outputs": [
    {
     "data": {
      "text/plain": [
       "'834-342-114'"
      ]
     },
     "execution_count": 58,
     "metadata": {},
     "output_type": "execute_result"
    }
   ],
   "source": [
    "results.group()"
   ]
  },
  {
   "cell_type": "code",
   "execution_count": 60,
   "id": "e62f216d",
   "metadata": {},
   "outputs": [
    {
     "data": {
      "text/plain": [
       "'834'"
      ]
     },
     "execution_count": 60,
     "metadata": {},
     "output_type": "execute_result"
    }
   ],
   "source": [
    "results.group(1)"
   ]
  },
  {
   "cell_type": "raw",
   "id": "a2e6f324",
   "metadata": {},
   "source": []
  }
 ],
 "metadata": {
  "kernelspec": {
   "display_name": "Python 3 (ipykernel)",
   "language": "python",
   "name": "python3"
  },
  "language_info": {
   "codemirror_mode": {
    "name": "ipython",
    "version": 3
   },
   "file_extension": ".py",
   "mimetype": "text/x-python",
   "name": "python",
   "nbconvert_exporter": "python",
   "pygments_lexer": "ipython3",
   "version": "3.11.4"
  }
 },
 "nbformat": 4,
 "nbformat_minor": 5
}
