{
 "cells": [
  {
   "cell_type": "code",
   "execution_count": 1,
   "id": "362be0e4",
   "metadata": {},
   "outputs": [],
   "source": [
    "import zipfile\n",
    "import re"
   ]
  },
  {
   "cell_type": "code",
   "execution_count": 2,
   "id": "f9a0a49e",
   "metadata": {},
   "outputs": [],
   "source": [
    "comp_file = zipfile.ZipFile('unzip_me_for_instructions.zip', 'r')"
   ]
  },
  {
   "cell_type": "code",
   "execution_count": 3,
   "id": "3ce304c3",
   "metadata": {},
   "outputs": [],
   "source": [
    "comp_file.extractall('ext_content')"
   ]
  },
  {
   "cell_type": "code",
   "execution_count": null,
   "id": "8c3fc734",
   "metadata": {},
   "outputs": [],
   "source": []
  },
  {
   "cell_type": "code",
   "execution_count": null,
   "id": "a1185490",
   "metadata": {},
   "outputs": [],
   "source": []
  },
  {
   "cell_type": "code",
   "execution_count": 9,
   "id": "d7633997",
   "metadata": {},
   "outputs": [
    {
     "data": {
      "text/plain": [
       "'/Users/btodd/Repos/Python Work/Python/Advanced Python Modules/ext_content/extracted_content'"
      ]
     },
     "execution_count": 9,
     "metadata": {},
     "output_type": "execute_result"
    }
   ],
   "source": [
    "pwd"
   ]
  },
  {
   "cell_type": "code",
   "execution_count": 10,
   "id": "7bcc44df",
   "metadata": {},
   "outputs": [],
   "source": [
    "import os"
   ]
  },
  {
   "cell_type": "code",
   "execution_count": 11,
   "id": "5d432d29",
   "metadata": {},
   "outputs": [],
   "source": [
    "directory = '/Users/btodd/Repos/Python Work/Python/Advanced Python Modules/ext_content/extracted_content'"
   ]
  },
  {
   "cell_type": "code",
   "execution_count": 12,
   "id": "8936637e",
   "metadata": {},
   "outputs": [],
   "source": [
    "pattern = r\"\\d{3}-\\d{3}-\\d{4}\""
   ]
  },
  {
   "cell_type": "code",
   "execution_count": 15,
   "id": "84977375",
   "metadata": {},
   "outputs": [
    {
     "name": "stdout",
     "output_type": "stream",
     "text": [
      "['719-266-2837']\n"
     ]
    }
   ],
   "source": [
    "for file, folder, subfolder in os.walk(os.getcwd()):\n",
    "    os.chdir('/Users/btodd/Repos/Python Work/Python/Advanced Python Modules/ext_content/extracted_content')\n",
    "    \n",
    "    for subfolder in folder:\n",
    "        open_dir = os.listdir(subfolder)\n",
    "\n",
    "        \n",
    "        for subfile in open_dir:\n",
    "            join_path = os.path.join(os.getcwd(), subfolder, subfile)\n",
    "            f = open(join_path, 'r')\n",
    "            results = re.findall(pattern, f.read())\n",
    "            if results:\n",
    "                print(results)\n",
    "            f.close()\n",
    "            \n",
    "\n",
    "#             print(f.read())\n",
    "#             re.findall(pattern, f.read())\n",
    "#         for subfile in subfolder:\n",
    "\n",
    "#             f = open(subfile, 'r')\n",
    "#             print(f.read())\n",
    "#                 f = open(n_folder, 'r')\n",
    "#                 print(f.read())\n",
    "\n",
    "#     for content in sub:\n",
    "#         print(os.getcwd())\n",
    "#          f = open(content, 'r')\n",
    "#          print(f.read())\n",
    "#         re.search(pattern, filecontent)\n",
    "\n",
    "    "
   ]
  },
  {
   "cell_type": "code",
   "execution_count": null,
   "id": "221b06d2",
   "metadata": {},
   "outputs": [],
   "source": []
  },
  {
   "cell_type": "code",
   "execution_count": null,
   "id": "0cdcf61c",
   "metadata": {},
   "outputs": [],
   "source": []
  }
 ],
 "metadata": {
  "kernelspec": {
   "display_name": "Python 3 (ipykernel)",
   "language": "python",
   "name": "python3"
  },
  "language_info": {
   "codemirror_mode": {
    "name": "ipython",
    "version": 3
   },
   "file_extension": ".py",
   "mimetype": "text/x-python",
   "name": "python",
   "nbconvert_exporter": "python",
   "pygments_lexer": "ipython3",
   "version": "3.11.4"
  }
 },
 "nbformat": 4,
 "nbformat_minor": 5
}
