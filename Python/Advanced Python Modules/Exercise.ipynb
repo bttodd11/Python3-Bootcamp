{
 "cells": [
  {
   "cell_type": "code",
   "execution_count": 111,
   "id": "362be0e4",
   "metadata": {},
   "outputs": [],
   "source": [
    "import zipfile\n",
    "import re"
   ]
  },
  {
   "cell_type": "code",
   "execution_count": 89,
   "id": "f9a0a49e",
   "metadata": {},
   "outputs": [
    {
     "ename": "FileNotFoundError",
     "evalue": "[Errno 2] No such file or directory: 'unzip_me_for_instructions.zip'",
     "output_type": "error",
     "traceback": [
      "\u001b[0;31m---------------------------------------------------------------------------\u001b[0m",
      "\u001b[0;31mFileNotFoundError\u001b[0m                         Traceback (most recent call last)",
      "Cell \u001b[0;32mIn[89], line 1\u001b[0m\n\u001b[0;32m----> 1\u001b[0m comp_file \u001b[38;5;241m=\u001b[39m zipfile\u001b[38;5;241m.\u001b[39mZipFile(\u001b[38;5;124m'\u001b[39m\u001b[38;5;124munzip_me_for_instructions.zip\u001b[39m\u001b[38;5;124m'\u001b[39m, \u001b[38;5;124m'\u001b[39m\u001b[38;5;124mr\u001b[39m\u001b[38;5;124m'\u001b[39m)\n",
      "File \u001b[0;32m~/anaconda3/lib/python3.11/zipfile.py:1284\u001b[0m, in \u001b[0;36mZipFile.__init__\u001b[0;34m(self, file, mode, compression, allowZip64, compresslevel, strict_timestamps, metadata_encoding)\u001b[0m\n\u001b[1;32m   1282\u001b[0m \u001b[38;5;28;01mwhile\u001b[39;00m \u001b[38;5;28;01mTrue\u001b[39;00m:\n\u001b[1;32m   1283\u001b[0m     \u001b[38;5;28;01mtry\u001b[39;00m:\n\u001b[0;32m-> 1284\u001b[0m         \u001b[38;5;28mself\u001b[39m\u001b[38;5;241m.\u001b[39mfp \u001b[38;5;241m=\u001b[39m io\u001b[38;5;241m.\u001b[39mopen(file, filemode)\n\u001b[1;32m   1285\u001b[0m     \u001b[38;5;28;01mexcept\u001b[39;00m \u001b[38;5;167;01mOSError\u001b[39;00m:\n\u001b[1;32m   1286\u001b[0m         \u001b[38;5;28;01mif\u001b[39;00m filemode \u001b[38;5;129;01min\u001b[39;00m modeDict:\n",
      "\u001b[0;31mFileNotFoundError\u001b[0m: [Errno 2] No such file or directory: 'unzip_me_for_instructions.zip'"
     ]
    }
   ],
   "source": [
    "comp_file = zipfile.ZipFile('unzip_me_for_instructions.zip', 'r')"
   ]
  },
  {
   "cell_type": "code",
   "execution_count": 3,
   "id": "3ce304c3",
   "metadata": {},
   "outputs": [],
   "source": [
    "comp_file.extractall('ext_content')"
   ]
  },
  {
   "cell_type": "code",
   "execution_count": null,
   "id": "8c3fc734",
   "metadata": {},
   "outputs": [],
   "source": []
  },
  {
   "cell_type": "code",
   "execution_count": null,
   "id": "a1185490",
   "metadata": {},
   "outputs": [],
   "source": []
  },
  {
   "cell_type": "code",
   "execution_count": 91,
   "id": "d7633997",
   "metadata": {},
   "outputs": [
    {
     "data": {
      "text/plain": [
       "'/Users/btodd/Repos/Python Work/Python/Advanced Python Modules/ext_content/extracted_content/Three'"
      ]
     },
     "execution_count": 91,
     "metadata": {},
     "output_type": "execute_result"
    }
   ],
   "source": [
    "pwd"
   ]
  },
  {
   "cell_type": "code",
   "execution_count": 112,
   "id": "7bcc44df",
   "metadata": {},
   "outputs": [],
   "source": [
    "import os"
   ]
  },
  {
   "cell_type": "code",
   "execution_count": 113,
   "id": "5d432d29",
   "metadata": {},
   "outputs": [],
   "source": [
    "directory = '/Users/btodd/Repos/Python Work/Python/Advanced Python Modules/ext_content/extracted_content'"
   ]
  },
  {
   "cell_type": "code",
   "execution_count": 114,
   "id": "8936637e",
   "metadata": {},
   "outputs": [],
   "source": [
    "pattern = r\"\\d{3}-\\d{3}-\\d{4}\""
   ]
  },
  {
   "cell_type": "code",
   "execution_count": 150,
   "id": "84977375",
   "metadata": {},
   "outputs": [
    {
     "name": "stdout",
     "output_type": "stream",
     "text": [
      "<re.Match object; span=(1062, 1074), match='719-266-2837'>\n"
     ]
    }
   ],
   "source": [
    "for file, folder, subfolder in os.walk(os.getcwd()):\n",
    "    os.chdir('/Users/btodd/Repos/Python Work/Python/Advanced Python Modules/ext_content/extracted_content')\n",
    "    \n",
    "    for subfolder in folder:\n",
    "        open_dir = os.listdir(subfolder)\n",
    "\n",
    "        \n",
    "        for subfile in open_dir:\n",
    "            join_path = os.path.join(os.getcwd(), subfolder, subfile)\n",
    "            f = open(join_path, 'r')\n",
    "            results = re.search(pattern, f.read())\n",
    "            if results != None:\n",
    "                print(results)\n",
    "            f.close()\n",
    "            \n",
    "\n",
    "#             print(f.read())\n",
    "#             re.findall(pattern, f.read())\n",
    "#         for subfile in subfolder:\n",
    "\n",
    "#             f = open(subfile, 'r')\n",
    "#             print(f.read())\n",
    "#                 f = open(n_folder, 'r')\n",
    "#                 print(f.read())\n",
    "\n",
    "#     for content in sub:\n",
    "#         print(os.getcwd())\n",
    "#          f = open(content, 'r')\n",
    "#          print(f.read())\n",
    "#         re.search(pattern, filecontent)\n",
    "\n",
    "    "
   ]
  },
  {
   "cell_type": "code",
   "execution_count": null,
   "id": "221b06d2",
   "metadata": {},
   "outputs": [],
   "source": []
  },
  {
   "cell_type": "code",
   "execution_count": null,
   "id": "0cdcf61c",
   "metadata": {},
   "outputs": [],
   "source": []
  }
 ],
 "metadata": {
  "kernelspec": {
   "display_name": "Python 3 (ipykernel)",
   "language": "python",
   "name": "python3"
  },
  "language_info": {
   "codemirror_mode": {
    "name": "ipython",
    "version": 3
   },
   "file_extension": ".py",
   "mimetype": "text/x-python",
   "name": "python",
   "nbconvert_exporter": "python",
   "pygments_lexer": "ipython3",
   "version": "3.11.4"
  }
 },
 "nbformat": 4,
 "nbformat_minor": 5
}
