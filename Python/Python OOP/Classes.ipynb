{
 "cells": [
  {
   "cell_type": "code",
   "execution_count": 24,
   "id": "2d20015a",
   "metadata": {},
   "outputs": [],
   "source": [
    "class Dog():\n",
    "    \n",
    "    #Class object attribute\n",
    "    species = 'Mammal'\n",
    "    # Two underscores are needed for init\n",
    "    def __init__(self, mybreed, name, spots):\n",
    "        \n",
    "        self.breed = mybreed\n",
    "        self.name = name\n",
    "        self.spots = spots\n",
    "    \n",
    "    #Methods -> Methods are functions inside a class\n",
    "    def bark(self, number):\n",
    "        print(\"Woof! My name is {} and I am {}\".format(self.name, number))"
   ]
  },
  {
   "cell_type": "code",
   "execution_count": 25,
   "id": "6599259c",
   "metadata": {},
   "outputs": [],
   "source": [
    "my_dog = Dog(mybreed=\"Staffy\", name=\"Queenie\", spots = False)"
   ]
  },
  {
   "cell_type": "code",
   "execution_count": 26,
   "id": "88b2f272",
   "metadata": {},
   "outputs": [
    {
     "data": {
      "text/plain": [
       "__main__.Dog"
      ]
     },
     "execution_count": 26,
     "metadata": {},
     "output_type": "execute_result"
    }
   ],
   "source": [
    "type(my_dog)"
   ]
  },
  {
   "cell_type": "code",
   "execution_count": 27,
   "id": "42676c10",
   "metadata": {},
   "outputs": [
    {
     "data": {
      "text/plain": [
       "'Staffy'"
      ]
     },
     "execution_count": 27,
     "metadata": {},
     "output_type": "execute_result"
    }
   ],
   "source": [
    "my_dog.breed"
   ]
  },
  {
   "cell_type": "code",
   "execution_count": 28,
   "id": "2f9defc9",
   "metadata": {},
   "outputs": [
    {
     "data": {
      "text/plain": [
       "'Queenie'"
      ]
     },
     "execution_count": 28,
     "metadata": {},
     "output_type": "execute_result"
    }
   ],
   "source": [
    "my_dog.name"
   ]
  },
  {
   "cell_type": "code",
   "execution_count": 29,
   "id": "c740ba66",
   "metadata": {},
   "outputs": [
    {
     "data": {
      "text/plain": [
       "False"
      ]
     },
     "execution_count": 29,
     "metadata": {},
     "output_type": "execute_result"
    }
   ],
   "source": [
    "my_dog.spots"
   ]
  },
  {
   "cell_type": "code",
   "execution_count": 30,
   "id": "11d90154",
   "metadata": {},
   "outputs": [
    {
     "data": {
      "text/plain": [
       "'Mammal'"
      ]
     },
     "execution_count": 30,
     "metadata": {},
     "output_type": "execute_result"
    }
   ],
   "source": [
    "my_dog.species"
   ]
  },
  {
   "cell_type": "code",
   "execution_count": 31,
   "id": "73661ab2",
   "metadata": {},
   "outputs": [
    {
     "name": "stdout",
     "output_type": "stream",
     "text": [
      "Woof! My name is Queenie and I am 9\n"
     ]
    }
   ],
   "source": [
    "my_dog.bark(9)"
   ]
  },
  {
   "cell_type": "code",
   "execution_count": null,
   "id": "97fa670a",
   "metadata": {},
   "outputs": [],
   "source": []
  },
  {
   "cell_type": "code",
   "execution_count": null,
   "id": "c9e34a9d",
   "metadata": {},
   "outputs": [],
   "source": []
  },
  {
   "cell_type": "code",
   "execution_count": null,
   "id": "8feef9a2",
   "metadata": {},
   "outputs": [],
   "source": []
  },
  {
   "cell_type": "code",
   "execution_count": null,
   "id": "5f450e3d",
   "metadata": {},
   "outputs": [],
   "source": []
  },
  {
   "cell_type": "code",
   "execution_count": 47,
   "id": "d9150524",
   "metadata": {},
   "outputs": [],
   "source": [
    "class Circle():\n",
    "    \n",
    "    pi = 3.14\n",
    "    \n",
    "    def __init__(self, radius= 1):\n",
    "        \n",
    "        self.radius = radius\n",
    "        self.area = radius * radius * pi\n",
    "        \n",
    "    #Method\n",
    "    def getCircumference(self):\n",
    "        return self.radius * self.pi * 2"
   ]
  },
  {
   "cell_type": "code",
   "execution_count": 48,
   "id": "ea1db12a",
   "metadata": {},
   "outputs": [],
   "source": [
    "myCircle = Circle(radius=30)"
   ]
  },
  {
   "cell_type": "code",
   "execution_count": 49,
   "id": "c50e2737",
   "metadata": {},
   "outputs": [
    {
     "data": {
      "text/plain": [
       "3.14"
      ]
     },
     "execution_count": 49,
     "metadata": {},
     "output_type": "execute_result"
    }
   ],
   "source": [
    "myCircle.pi"
   ]
  },
  {
   "cell_type": "code",
   "execution_count": 50,
   "id": "c901dd01",
   "metadata": {},
   "outputs": [
    {
     "data": {
      "text/plain": [
       "30"
      ]
     },
     "execution_count": 50,
     "metadata": {},
     "output_type": "execute_result"
    }
   ],
   "source": [
    "myCircle.radius"
   ]
  },
  {
   "cell_type": "code",
   "execution_count": 51,
   "id": "16dffe0e",
   "metadata": {},
   "outputs": [
    {
     "data": {
      "text/plain": [
       "188.4"
      ]
     },
     "execution_count": 51,
     "metadata": {},
     "output_type": "execute_result"
    }
   ],
   "source": [
    "myCircle.getCircumference()"
   ]
  },
  {
   "cell_type": "code",
   "execution_count": null,
   "id": "7269ead0",
   "metadata": {},
   "outputs": [],
   "source": []
  }
 ],
 "metadata": {
  "kernelspec": {
   "display_name": "Python 3 (ipykernel)",
   "language": "python",
   "name": "python3"
  },
  "language_info": {
   "codemirror_mode": {
    "name": "ipython",
    "version": 3
   },
   "file_extension": ".py",
   "mimetype": "text/x-python",
   "name": "python",
   "nbconvert_exporter": "python",
   "pygments_lexer": "ipython3",
   "version": "3.11.4"
  }
 },
 "nbformat": 4,
 "nbformat_minor": 5
}
